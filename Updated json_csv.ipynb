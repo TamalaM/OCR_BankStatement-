{
 "cells": [
  {
   "cell_type": "code",
   "execution_count": 48,
   "metadata": {},
   "outputs": [],
   "source": [
    "import webbrowser, os\n",
    "import json\n",
    "import boto3\n",
    "import io\n",
    "from io import BytesIO\n",
    "import sys\n",
    "from pprint import pprint\n",
    "import pandas as pd\n",
    "import numpy as np\n",
    "import csv"
   ]
  },
  {
   "cell_type": "code",
   "execution_count": 53,
   "metadata": {
    "scrolled": true
   },
   "outputs": [
    {
     "name": "stdout",
     "output_type": "stream",
     "text": [
      "Requirement already satisfied: boto3 in /Users/tamalaameliamanda/opt/anaconda3/lib/python3.8/site-packages (1.14.50)\n",
      "Requirement already satisfied: s3transfer<0.4.0,>=0.3.0 in /Users/tamalaameliamanda/opt/anaconda3/lib/python3.8/site-packages (from boto3) (0.3.3)\n",
      "Requirement already satisfied: jmespath<1.0.0,>=0.7.1 in /Users/tamalaameliamanda/opt/anaconda3/lib/python3.8/site-packages (from boto3) (0.10.0)\n",
      "Requirement already satisfied: botocore<1.18.0,>=1.17.50 in /Users/tamalaameliamanda/opt/anaconda3/lib/python3.8/site-packages (from boto3) (1.17.50)\n",
      "Requirement already satisfied: python-dateutil<3.0.0,>=2.1 in /Users/tamalaameliamanda/opt/anaconda3/lib/python3.8/site-packages (from botocore<1.18.0,>=1.17.50->boto3) (2.8.1)\n",
      "Requirement already satisfied: urllib3<1.26,>=1.20; python_version != \"3.4\" in /Users/tamalaameliamanda/opt/anaconda3/lib/python3.8/site-packages (from botocore<1.18.0,>=1.17.50->boto3) (1.25.9)\n",
      "Requirement already satisfied: docutils<0.16,>=0.10 in /Users/tamalaameliamanda/opt/anaconda3/lib/python3.8/site-packages (from botocore<1.18.0,>=1.17.50->boto3) (0.15.2)\n",
      "Requirement already satisfied: six>=1.5 in /Users/tamalaameliamanda/opt/anaconda3/lib/python3.8/site-packages (from python-dateutil<3.0.0,>=2.1->botocore<1.18.0,>=1.17.50->boto3) (1.15.0)\n",
      "Note: you may need to restart the kernel to use updated packages.\n"
     ]
    }
   ],
   "source": [
    "pip install boto3\n"
   ]
  },
  {
   "cell_type": "code",
   "execution_count": 54,
   "metadata": {},
   "outputs": [],
   "source": [
    "def load_json(bank_name):\n",
    "    mydict={\"absa\":'ABSA.json',\n",
    "           \"fnb\":\"FNB.json\",\n",
    "            \"bidvest\":\"Bidvest.json\",\n",
    "            \"standardbank\":\"Standard Bank.json\",\n",
    "            \"nedbank\":\"Nedbank.json\"\n",
    "           }\n",
    "    with open(mydict[bank_name]) as json_file: \n",
    "        data = json.load(json_file)\n",
    "    \n",
    "    return data[0]['Blocks']"
   ]
  },
  {
   "cell_type": "code",
   "execution_count": 55,
   "metadata": {},
   "outputs": [],
   "source": [
    "def get_text(result, blocks_map):\n",
    "    text = ''\n",
    "    if 'Relationships' in result:\n",
    "        for relationship in result['Relationships']:\n",
    "            if relationship['Type'] == 'CHILD':\n",
    "                for child_id in relationship['Ids']:\n",
    "                    word = blocks_map[child_id]\n",
    "                    if word['BlockType'] == 'WORD':\n",
    "                        text += word['Text'] + ' '\n",
    "                    if word['BlockType'] == 'SELECTION_ELEMENT':\n",
    "                        if word['SelectionStatus'] =='SELECTED':\n",
    "                            text +=  'X '    \n",
    "    return text"
   ]
  },
  {
   "cell_type": "code",
   "execution_count": 56,
   "metadata": {},
   "outputs": [],
   "source": [
    "def get_rows_columns_map(table_result, blocks_map):\n",
    "    rows = {}\n",
    "    for relationship in table_result['Relationships']:\n",
    "        if relationship['Type'] == 'CHILD':\n",
    "            for child_id in relationship['Ids']:\n",
    "                cell = blocks_map[child_id]\n",
    "                if cell['BlockType'] == 'CELL':\n",
    "                    row_index = cell['RowIndex']\n",
    "                    col_index = cell['ColumnIndex']\n",
    "                    if row_index not in rows:\n",
    "                        # create new row\n",
    "                        rows[row_index] = {}\n",
    "                        \n",
    "                    # get the text value\n",
    "                    rows[row_index][col_index] = get_text(cell, blocks_map)\n",
    "    return rows"
   ]
  },
  {
   "cell_type": "code",
   "execution_count": 57,
   "metadata": {},
   "outputs": [],
   "source": [
    "def generate_table_csv(table_result, blocks_map, table_index):\n",
    "    rows = get_rows_columns_map(table_result, blocks_map)\n",
    "\n",
    "    table_id = 'Table_' + str(table_index)\n",
    "    \n",
    "    # get cells.\n",
    "    csv = 'Table: {0}\\n\\n'.format(table_id)\n",
    "\n",
    "    for row_index, cols in rows.items():\n",
    "        \n",
    "        for col_index, text in cols.items():\n",
    "            csv += '{}'.format(text) + \",\"\n",
    "        csv += '\\n'\n",
    "        \n",
    "    csv += '\\n\\n\\n'\n",
    "    return csv\n"
   ]
  },
  {
   "cell_type": "code",
   "execution_count": 58,
   "metadata": {},
   "outputs": [],
   "source": [
    "def generate_table_blockscode(bank_name):\n",
    "    blocks=load_json(bank_name)\n",
    "    blocks_map = {}\n",
    "    table_blocks = []\n",
    "    for block in blocks:\n",
    "        blocks_map[block['Id']] = block\n",
    "        if block['BlockType'] == \"TABLE\":\n",
    "            table_blocks.append(block)\n",
    "\n",
    "    if len(table_blocks) <= 0:\n",
    "         \"<b> NO Table FOUND </b>\"\n",
    "            \n",
    "\n",
    "    return table_blocks,blocks_map"
   ]
  },
  {
   "cell_type": "code",
   "execution_count": 59,
   "metadata": {},
   "outputs": [],
   "source": [
    "def create_csv(bank_name):  \n",
    "    '''\n",
    "    creates a csv and given a bank name ;bank name is the name of the bank beng used by thr company \n",
    "    '''\n",
    "    csv = ''\n",
    "    table_blocks,blocks_map=generate_table_blockscode(bank_name)\n",
    "    for index, table in enumerate(table_blocks):\n",
    "        csv += generate_table_csv(table, blocks_map, index +1)\n",
    "        csv += '\\n\\n'\n",
    "\n",
    "    return csv.strip(\"\\n\")"
   ]
  },
  {
   "cell_type": "code",
   "execution_count": 144,
   "metadata": {},
   "outputs": [],
   "source": [
    "csv=create_csv(\"absa\")"
   ]
  },
  {
   "cell_type": "code",
   "execution_count": null,
   "metadata": {},
   "outputs": [],
   "source": []
  },
  {
   "cell_type": "code",
   "execution_count": 149,
   "metadata": {},
   "outputs": [
    {
     "data": {
      "text/plain": [
       "'Table: Table_1\\n\\nDate ,Transaction Description ,Charge ,,Debit Amount ,Credit Amount ,Balance ,\\n5/03/2019 5/03/2019 ,Bal Brought Forward Airtime Debit Tiq001absa Card No. 4971 Mtn: 0730403965 ,1.50 ,T ,499.00 ,,4 794.48 4 295.48 ,\\n7/03/2019 ,Acb Debit:External Settlement lairdressihairdressing V148 ,19.00 ,T ,3 662.00 ,,633.48 ,\\n12/03/2019 ,Acb Credit Settlement Hollard Etimage004-0016 ,,,,6 298.80 ,6 932.28 ,\\n15/03/2019 ,Acb Debit:Externa Settlement Centrafin Debit 033424:029008 ,19.00 ,T ,1 325.16 ,,5 607.12 ,\\n18/03/2019 ,Airtime Debit Tiq001absa ,1.50 ,T ,110.00 ,,5 497.12 ,\\n19/03/2019 ,Card No. 4971 Vodacom: 0824941097 bank Payment To Settlement Absa Bank Wire It Upstairs ,,,1 000.00 ,,4 497.12 ,\\n27/03/2019 ,Npf Credit Treas/lbs ,,,,10 000.00 ,14 497.12 ,\\n27/03/2019 ,Eftbbl2tllvpf002/Images 1 Fnb bank Transfer Settlement ,,,13 000.00 ,,1 497.12 ,\\n29/03/2019 ,1400154585 Absa Bank 1400154585 Acb Debit:External Settlement ,19.00 ,T ,591.82 ,,905.30 ,\\n,Nashua Ec 7127 Nashua Ec ,,,,,,\\n30/03/2019 ,Npf Credit Treas/lbs ,,,,15 000.00 ,15 905.30 ,\\n,Eftbb45jjd3pf002/Images 1 Fnb ,,,,,,\\n30/03/2019 ,bank Transfer Settlement ,,,5 000.00 ,,0 905.30 ,\\n,1400154585 Absa Bank 1400154585 ,,,,,,\\n30/03/2019 ,Internet Bank Fee Settlement ,,*k ,1 052.50 ,,9 852.80 ,\\n1/04/2019 ,Monthly Acc Fee Headoffice ,,*k ,75.00 ,,9 777.80 ,\\n1/04/2019 ,Transaction Charge Headoffice ,,*k ,193.00 ,,9 584.80 ,\\n,,,,,,,\\n\\n\\n\\n\\n\\nTable: Table_2\\n\\nAccount Summary: ,,,\\nBalance Brought Forward ,,4 794,48 ,\\nSundry Credits ,,51 298,80 ,\\nSundry Debits ,,52 416,70- ,\\nCharges ,,1 920,50- ,\\nBalance ,,1 756,08 ,\\nOverdraft Limit ,,0,00 ,'"
      ]
     },
     "execution_count": 149,
     "metadata": {},
     "output_type": "execute_result"
    }
   ],
   "source": [
    "csv"
   ]
  },
  {
   "cell_type": "code",
   "execution_count": 151,
   "metadata": {},
   "outputs": [],
   "source": [
    "def generate_info(csv,bank_name='Absa'):\n",
    "    \n",
    "    if bank_name.lower()=='absa': \n",
    "        bankstatement=csv[:csv.find(6*\"\\n\")]\n",
    "        bankstatement=bankstatement.replace(\"Table: Table_1\\n\\n\",\"\")\n",
    "        banksummary=csv[csv.find(6*\"\\n\")+6:]\n",
    "        banksummary=banksummary.replace(\"Table: Table_2\\n\\n\",\"\")\n",
    "          \n",
    "        \n",
    "    elif bank_name.lower()=='fnb':\n",
    "        bankstatement=csv[:csv.find(6*\"\\n\")]\n",
    "        bankstatement=bankstatement.replace(\"Table: Table_1\\n\\n\",\"\")\n",
    "        banksummary=csv[csv.rfind(6*\"\\n\")+6:]\n",
    "        banksummary=banksummary.replace(\"Table: Table_3\\n\\n\",\"\") \n",
    "        \n",
    "    elif bank_name.lower()=='bidvest':\n",
    "        bankstatement=csv[:csv.find(6*\"\\n\")]\n",
    "        bankstatement=bankstatement.replace(\"Table: Table_1\\n\\n\",\"\")\n",
    "        banksummary=csv[csv.find(6*\"\\n\")+6:]\n",
    "        banksummary=banksummary.replace(\"Table: Table_2\\n\\n\",\"\")\n",
    "  \n",
    "    elif bank_name.lower()=='nedbank':\n",
    "        bankstatement=csv[:csv.find(6*\"\\n\")]\n",
    "        bankstatement=bankstatement.replace(\"Table: Table_1\\n\\n\",\"\")\n",
    "        banksummary=csv[csv.find(6*\"\\n\")+6:]\n",
    "        banksummary=banksummary.replace(\"Table: Table_2\\n\\n\",\"\")\n",
    "          \n",
    "    elif bank_name.lower()=='standardbank':\n",
    "        bankstatement=csv[:csv.find(6*\"\\n\")]\n",
    "        bankstatement=bankstatement.replace(\"Table: Table_1\\n\\n\",\"\")\n",
    "        banksummary=csv[csv.find(6*\"\\n\")+6:]\n",
    "        banksummary=banksummary.replace(\"Table: Table_2\\n\\n\",\"\")\n",
    "        \n",
    "    \n",
    "    return bankstatement,banksummary\n",
    "        \n",
    "    \n",
    "    \n",
    "  \n",
    "\n",
    "\n"
   ]
  },
  {
   "cell_type": "code",
   "execution_count": 152,
   "metadata": {},
   "outputs": [],
   "source": [
    "def writecsv(csv,output_table1,output_table2):\n",
    "\n",
    "    \"\"\"\" Write bank statement and bank summary csv \"\"\"\n",
    "    bankstatement_tuple=generate_info(csv)\n",
    "    with open(output_table1, \"wt\") as bank:\n",
    "        bank.write(str(bankstatement_tuple[0]))\n",
    "    with open(output_table2, \"wt\") as bank:\n",
    "        bank.write(str(bankstatement_tuple[1]))\n",
    "    \n",
    "        "
   ]
  },
  {
   "cell_type": "code",
   "execution_count": 64,
   "metadata": {},
   "outputs": [],
   "source": [
    "writecsv(csv,\"bank_statement.csv\",\"bank_summary.csv\")"
   ]
  },
  {
   "cell_type": "code",
   "execution_count": 154,
   "metadata": {},
   "outputs": [],
   "source": [
    "writecsv(fnbcsv,\"bank_statement.csv\",\"bank_summary.csv\")"
   ]
  },
  {
   "cell_type": "code",
   "execution_count": 65,
   "metadata": {},
   "outputs": [],
   "source": [
    "bank_df=pd.read_csv(\"bank_statement.csv\")"
   ]
  },
  {
   "cell_type": "code",
   "execution_count": 160,
   "metadata": {},
   "outputs": [],
   "source": [
    "fnbbank_df=pd.read_csv(\"bank_statement.csv\")"
   ]
  },
  {
   "cell_type": "code",
   "execution_count": 161,
   "metadata": {},
   "outputs": [
    {
     "ename": "ParserError",
     "evalue": "Error tokenizing data. C error: Expected 4 fields in line 12, saw 6\n",
     "output_type": "error",
     "traceback": [
      "\u001b[0;31m---------------------------------------------------------------------------\u001b[0m",
      "\u001b[0;31mParserError\u001b[0m                               Traceback (most recent call last)",
      "\u001b[0;32m<ipython-input-161-b97ecd8a55da>\u001b[0m in \u001b[0;36m<module>\u001b[0;34m\u001b[0m\n\u001b[0;32m----> 1\u001b[0;31m \u001b[0msummary_df\u001b[0m\u001b[0;34m=\u001b[0m\u001b[0mpd\u001b[0m\u001b[0;34m.\u001b[0m\u001b[0mread_csv\u001b[0m\u001b[0;34m(\u001b[0m\u001b[0;34m\"bank_summary.csv\"\u001b[0m\u001b[0;34m)\u001b[0m\u001b[0;34m.\u001b[0m\u001b[0mreset_index\u001b[0m\u001b[0;34m(\u001b[0m\u001b[0;34m)\u001b[0m\u001b[0;34m\u001b[0m\u001b[0;34m\u001b[0m\u001b[0m\n\u001b[0m",
      "\u001b[0;32m~/opt/anaconda3/lib/python3.8/site-packages/pandas/io/parsers.py\u001b[0m in \u001b[0;36mparser_f\u001b[0;34m(filepath_or_buffer, sep, delimiter, header, names, index_col, usecols, squeeze, prefix, mangle_dupe_cols, dtype, engine, converters, true_values, false_values, skipinitialspace, skiprows, skipfooter, nrows, na_values, keep_default_na, na_filter, verbose, skip_blank_lines, parse_dates, infer_datetime_format, keep_date_col, date_parser, dayfirst, cache_dates, iterator, chunksize, compression, thousands, decimal, lineterminator, quotechar, quoting, doublequote, escapechar, comment, encoding, dialect, error_bad_lines, warn_bad_lines, delim_whitespace, low_memory, memory_map, float_precision)\u001b[0m\n\u001b[1;32m    674\u001b[0m         )\n\u001b[1;32m    675\u001b[0m \u001b[0;34m\u001b[0m\u001b[0m\n\u001b[0;32m--> 676\u001b[0;31m         \u001b[0;32mreturn\u001b[0m \u001b[0m_read\u001b[0m\u001b[0;34m(\u001b[0m\u001b[0mfilepath_or_buffer\u001b[0m\u001b[0;34m,\u001b[0m \u001b[0mkwds\u001b[0m\u001b[0;34m)\u001b[0m\u001b[0;34m\u001b[0m\u001b[0;34m\u001b[0m\u001b[0m\n\u001b[0m\u001b[1;32m    677\u001b[0m \u001b[0;34m\u001b[0m\u001b[0m\n\u001b[1;32m    678\u001b[0m     \u001b[0mparser_f\u001b[0m\u001b[0;34m.\u001b[0m\u001b[0m__name__\u001b[0m \u001b[0;34m=\u001b[0m \u001b[0mname\u001b[0m\u001b[0;34m\u001b[0m\u001b[0;34m\u001b[0m\u001b[0m\n",
      "\u001b[0;32m~/opt/anaconda3/lib/python3.8/site-packages/pandas/io/parsers.py\u001b[0m in \u001b[0;36m_read\u001b[0;34m(filepath_or_buffer, kwds)\u001b[0m\n\u001b[1;32m    452\u001b[0m \u001b[0;34m\u001b[0m\u001b[0m\n\u001b[1;32m    453\u001b[0m     \u001b[0;32mtry\u001b[0m\u001b[0;34m:\u001b[0m\u001b[0;34m\u001b[0m\u001b[0;34m\u001b[0m\u001b[0m\n\u001b[0;32m--> 454\u001b[0;31m         \u001b[0mdata\u001b[0m \u001b[0;34m=\u001b[0m \u001b[0mparser\u001b[0m\u001b[0;34m.\u001b[0m\u001b[0mread\u001b[0m\u001b[0;34m(\u001b[0m\u001b[0mnrows\u001b[0m\u001b[0;34m)\u001b[0m\u001b[0;34m\u001b[0m\u001b[0;34m\u001b[0m\u001b[0m\n\u001b[0m\u001b[1;32m    455\u001b[0m     \u001b[0;32mfinally\u001b[0m\u001b[0;34m:\u001b[0m\u001b[0;34m\u001b[0m\u001b[0;34m\u001b[0m\u001b[0m\n\u001b[1;32m    456\u001b[0m         \u001b[0mparser\u001b[0m\u001b[0;34m.\u001b[0m\u001b[0mclose\u001b[0m\u001b[0;34m(\u001b[0m\u001b[0;34m)\u001b[0m\u001b[0;34m\u001b[0m\u001b[0;34m\u001b[0m\u001b[0m\n",
      "\u001b[0;32m~/opt/anaconda3/lib/python3.8/site-packages/pandas/io/parsers.py\u001b[0m in \u001b[0;36mread\u001b[0;34m(self, nrows)\u001b[0m\n\u001b[1;32m   1131\u001b[0m     \u001b[0;32mdef\u001b[0m \u001b[0mread\u001b[0m\u001b[0;34m(\u001b[0m\u001b[0mself\u001b[0m\u001b[0;34m,\u001b[0m \u001b[0mnrows\u001b[0m\u001b[0;34m=\u001b[0m\u001b[0;32mNone\u001b[0m\u001b[0;34m)\u001b[0m\u001b[0;34m:\u001b[0m\u001b[0;34m\u001b[0m\u001b[0;34m\u001b[0m\u001b[0m\n\u001b[1;32m   1132\u001b[0m         \u001b[0mnrows\u001b[0m \u001b[0;34m=\u001b[0m \u001b[0m_validate_integer\u001b[0m\u001b[0;34m(\u001b[0m\u001b[0;34m\"nrows\"\u001b[0m\u001b[0;34m,\u001b[0m \u001b[0mnrows\u001b[0m\u001b[0;34m)\u001b[0m\u001b[0;34m\u001b[0m\u001b[0;34m\u001b[0m\u001b[0m\n\u001b[0;32m-> 1133\u001b[0;31m         \u001b[0mret\u001b[0m \u001b[0;34m=\u001b[0m \u001b[0mself\u001b[0m\u001b[0;34m.\u001b[0m\u001b[0m_engine\u001b[0m\u001b[0;34m.\u001b[0m\u001b[0mread\u001b[0m\u001b[0;34m(\u001b[0m\u001b[0mnrows\u001b[0m\u001b[0;34m)\u001b[0m\u001b[0;34m\u001b[0m\u001b[0;34m\u001b[0m\u001b[0m\n\u001b[0m\u001b[1;32m   1134\u001b[0m \u001b[0;34m\u001b[0m\u001b[0m\n\u001b[1;32m   1135\u001b[0m         \u001b[0;31m# May alter columns / col_dict\u001b[0m\u001b[0;34m\u001b[0m\u001b[0;34m\u001b[0m\u001b[0;34m\u001b[0m\u001b[0m\n",
      "\u001b[0;32m~/opt/anaconda3/lib/python3.8/site-packages/pandas/io/parsers.py\u001b[0m in \u001b[0;36mread\u001b[0;34m(self, nrows)\u001b[0m\n\u001b[1;32m   2035\u001b[0m     \u001b[0;32mdef\u001b[0m \u001b[0mread\u001b[0m\u001b[0;34m(\u001b[0m\u001b[0mself\u001b[0m\u001b[0;34m,\u001b[0m \u001b[0mnrows\u001b[0m\u001b[0;34m=\u001b[0m\u001b[0;32mNone\u001b[0m\u001b[0;34m)\u001b[0m\u001b[0;34m:\u001b[0m\u001b[0;34m\u001b[0m\u001b[0;34m\u001b[0m\u001b[0m\n\u001b[1;32m   2036\u001b[0m         \u001b[0;32mtry\u001b[0m\u001b[0;34m:\u001b[0m\u001b[0;34m\u001b[0m\u001b[0;34m\u001b[0m\u001b[0m\n\u001b[0;32m-> 2037\u001b[0;31m             \u001b[0mdata\u001b[0m \u001b[0;34m=\u001b[0m \u001b[0mself\u001b[0m\u001b[0;34m.\u001b[0m\u001b[0m_reader\u001b[0m\u001b[0;34m.\u001b[0m\u001b[0mread\u001b[0m\u001b[0;34m(\u001b[0m\u001b[0mnrows\u001b[0m\u001b[0;34m)\u001b[0m\u001b[0;34m\u001b[0m\u001b[0;34m\u001b[0m\u001b[0m\n\u001b[0m\u001b[1;32m   2038\u001b[0m         \u001b[0;32mexcept\u001b[0m \u001b[0mStopIteration\u001b[0m\u001b[0;34m:\u001b[0m\u001b[0;34m\u001b[0m\u001b[0;34m\u001b[0m\u001b[0m\n\u001b[1;32m   2039\u001b[0m             \u001b[0;32mif\u001b[0m \u001b[0mself\u001b[0m\u001b[0;34m.\u001b[0m\u001b[0m_first_chunk\u001b[0m\u001b[0;34m:\u001b[0m\u001b[0;34m\u001b[0m\u001b[0;34m\u001b[0m\u001b[0m\n",
      "\u001b[0;32mpandas/_libs/parsers.pyx\u001b[0m in \u001b[0;36mpandas._libs.parsers.TextReader.read\u001b[0;34m()\u001b[0m\n",
      "\u001b[0;32mpandas/_libs/parsers.pyx\u001b[0m in \u001b[0;36mpandas._libs.parsers.TextReader._read_low_memory\u001b[0;34m()\u001b[0m\n",
      "\u001b[0;32mpandas/_libs/parsers.pyx\u001b[0m in \u001b[0;36mpandas._libs.parsers.TextReader._read_rows\u001b[0;34m()\u001b[0m\n",
      "\u001b[0;32mpandas/_libs/parsers.pyx\u001b[0m in \u001b[0;36mpandas._libs.parsers.TextReader._tokenize_rows\u001b[0;34m()\u001b[0m\n",
      "\u001b[0;32mpandas/_libs/parsers.pyx\u001b[0m in \u001b[0;36mpandas._libs.parsers.raise_parser_error\u001b[0;34m()\u001b[0m\n",
      "\u001b[0;31mParserError\u001b[0m: Error tokenizing data. C error: Expected 4 fields in line 12, saw 6\n"
     ]
    }
   ],
   "source": [
    "summary_df=pd.read_csv(\"bank_summary.csv\").reset_index()"
   ]
  },
  {
   "cell_type": "code",
   "execution_count": 157,
   "metadata": {},
   "outputs": [
    {
     "ename": "ParserError",
     "evalue": "Error tokenizing data. C error: Expected 4 fields in line 12, saw 6\n",
     "output_type": "error",
     "traceback": [
      "\u001b[0;31m---------------------------------------------------------------------------\u001b[0m",
      "\u001b[0;31mParserError\u001b[0m                               Traceback (most recent call last)",
      "\u001b[0;32m<ipython-input-157-00a158c3bee3>\u001b[0m in \u001b[0;36m<module>\u001b[0;34m\u001b[0m\n\u001b[0;32m----> 1\u001b[0;31m \u001b[0mfnbsummary_df\u001b[0m\u001b[0;34m=\u001b[0m\u001b[0mpd\u001b[0m\u001b[0;34m.\u001b[0m\u001b[0mread_csv\u001b[0m\u001b[0;34m(\u001b[0m\u001b[0;34m\"bank_summary.csv\"\u001b[0m\u001b[0;34m)\u001b[0m\u001b[0;34m.\u001b[0m\u001b[0mreset_index\u001b[0m\u001b[0;34m(\u001b[0m\u001b[0;34m)\u001b[0m\u001b[0;34m\u001b[0m\u001b[0;34m\u001b[0m\u001b[0m\n\u001b[0m",
      "\u001b[0;32m~/opt/anaconda3/lib/python3.8/site-packages/pandas/io/parsers.py\u001b[0m in \u001b[0;36mparser_f\u001b[0;34m(filepath_or_buffer, sep, delimiter, header, names, index_col, usecols, squeeze, prefix, mangle_dupe_cols, dtype, engine, converters, true_values, false_values, skipinitialspace, skiprows, skipfooter, nrows, na_values, keep_default_na, na_filter, verbose, skip_blank_lines, parse_dates, infer_datetime_format, keep_date_col, date_parser, dayfirst, cache_dates, iterator, chunksize, compression, thousands, decimal, lineterminator, quotechar, quoting, doublequote, escapechar, comment, encoding, dialect, error_bad_lines, warn_bad_lines, delim_whitespace, low_memory, memory_map, float_precision)\u001b[0m\n\u001b[1;32m    674\u001b[0m         )\n\u001b[1;32m    675\u001b[0m \u001b[0;34m\u001b[0m\u001b[0m\n\u001b[0;32m--> 676\u001b[0;31m         \u001b[0;32mreturn\u001b[0m \u001b[0m_read\u001b[0m\u001b[0;34m(\u001b[0m\u001b[0mfilepath_or_buffer\u001b[0m\u001b[0;34m,\u001b[0m \u001b[0mkwds\u001b[0m\u001b[0;34m)\u001b[0m\u001b[0;34m\u001b[0m\u001b[0;34m\u001b[0m\u001b[0m\n\u001b[0m\u001b[1;32m    677\u001b[0m \u001b[0;34m\u001b[0m\u001b[0m\n\u001b[1;32m    678\u001b[0m     \u001b[0mparser_f\u001b[0m\u001b[0;34m.\u001b[0m\u001b[0m__name__\u001b[0m \u001b[0;34m=\u001b[0m \u001b[0mname\u001b[0m\u001b[0;34m\u001b[0m\u001b[0;34m\u001b[0m\u001b[0m\n",
      "\u001b[0;32m~/opt/anaconda3/lib/python3.8/site-packages/pandas/io/parsers.py\u001b[0m in \u001b[0;36m_read\u001b[0;34m(filepath_or_buffer, kwds)\u001b[0m\n\u001b[1;32m    452\u001b[0m \u001b[0;34m\u001b[0m\u001b[0m\n\u001b[1;32m    453\u001b[0m     \u001b[0;32mtry\u001b[0m\u001b[0;34m:\u001b[0m\u001b[0;34m\u001b[0m\u001b[0;34m\u001b[0m\u001b[0m\n\u001b[0;32m--> 454\u001b[0;31m         \u001b[0mdata\u001b[0m \u001b[0;34m=\u001b[0m \u001b[0mparser\u001b[0m\u001b[0;34m.\u001b[0m\u001b[0mread\u001b[0m\u001b[0;34m(\u001b[0m\u001b[0mnrows\u001b[0m\u001b[0;34m)\u001b[0m\u001b[0;34m\u001b[0m\u001b[0;34m\u001b[0m\u001b[0m\n\u001b[0m\u001b[1;32m    455\u001b[0m     \u001b[0;32mfinally\u001b[0m\u001b[0;34m:\u001b[0m\u001b[0;34m\u001b[0m\u001b[0;34m\u001b[0m\u001b[0m\n\u001b[1;32m    456\u001b[0m         \u001b[0mparser\u001b[0m\u001b[0;34m.\u001b[0m\u001b[0mclose\u001b[0m\u001b[0;34m(\u001b[0m\u001b[0;34m)\u001b[0m\u001b[0;34m\u001b[0m\u001b[0;34m\u001b[0m\u001b[0m\n",
      "\u001b[0;32m~/opt/anaconda3/lib/python3.8/site-packages/pandas/io/parsers.py\u001b[0m in \u001b[0;36mread\u001b[0;34m(self, nrows)\u001b[0m\n\u001b[1;32m   1131\u001b[0m     \u001b[0;32mdef\u001b[0m \u001b[0mread\u001b[0m\u001b[0;34m(\u001b[0m\u001b[0mself\u001b[0m\u001b[0;34m,\u001b[0m \u001b[0mnrows\u001b[0m\u001b[0;34m=\u001b[0m\u001b[0;32mNone\u001b[0m\u001b[0;34m)\u001b[0m\u001b[0;34m:\u001b[0m\u001b[0;34m\u001b[0m\u001b[0;34m\u001b[0m\u001b[0m\n\u001b[1;32m   1132\u001b[0m         \u001b[0mnrows\u001b[0m \u001b[0;34m=\u001b[0m \u001b[0m_validate_integer\u001b[0m\u001b[0;34m(\u001b[0m\u001b[0;34m\"nrows\"\u001b[0m\u001b[0;34m,\u001b[0m \u001b[0mnrows\u001b[0m\u001b[0;34m)\u001b[0m\u001b[0;34m\u001b[0m\u001b[0;34m\u001b[0m\u001b[0m\n\u001b[0;32m-> 1133\u001b[0;31m         \u001b[0mret\u001b[0m \u001b[0;34m=\u001b[0m \u001b[0mself\u001b[0m\u001b[0;34m.\u001b[0m\u001b[0m_engine\u001b[0m\u001b[0;34m.\u001b[0m\u001b[0mread\u001b[0m\u001b[0;34m(\u001b[0m\u001b[0mnrows\u001b[0m\u001b[0;34m)\u001b[0m\u001b[0;34m\u001b[0m\u001b[0;34m\u001b[0m\u001b[0m\n\u001b[0m\u001b[1;32m   1134\u001b[0m \u001b[0;34m\u001b[0m\u001b[0m\n\u001b[1;32m   1135\u001b[0m         \u001b[0;31m# May alter columns / col_dict\u001b[0m\u001b[0;34m\u001b[0m\u001b[0;34m\u001b[0m\u001b[0;34m\u001b[0m\u001b[0m\n",
      "\u001b[0;32m~/opt/anaconda3/lib/python3.8/site-packages/pandas/io/parsers.py\u001b[0m in \u001b[0;36mread\u001b[0;34m(self, nrows)\u001b[0m\n\u001b[1;32m   2035\u001b[0m     \u001b[0;32mdef\u001b[0m \u001b[0mread\u001b[0m\u001b[0;34m(\u001b[0m\u001b[0mself\u001b[0m\u001b[0;34m,\u001b[0m \u001b[0mnrows\u001b[0m\u001b[0;34m=\u001b[0m\u001b[0;32mNone\u001b[0m\u001b[0;34m)\u001b[0m\u001b[0;34m:\u001b[0m\u001b[0;34m\u001b[0m\u001b[0;34m\u001b[0m\u001b[0m\n\u001b[1;32m   2036\u001b[0m         \u001b[0;32mtry\u001b[0m\u001b[0;34m:\u001b[0m\u001b[0;34m\u001b[0m\u001b[0;34m\u001b[0m\u001b[0m\n\u001b[0;32m-> 2037\u001b[0;31m             \u001b[0mdata\u001b[0m \u001b[0;34m=\u001b[0m \u001b[0mself\u001b[0m\u001b[0;34m.\u001b[0m\u001b[0m_reader\u001b[0m\u001b[0;34m.\u001b[0m\u001b[0mread\u001b[0m\u001b[0;34m(\u001b[0m\u001b[0mnrows\u001b[0m\u001b[0;34m)\u001b[0m\u001b[0;34m\u001b[0m\u001b[0;34m\u001b[0m\u001b[0m\n\u001b[0m\u001b[1;32m   2038\u001b[0m         \u001b[0;32mexcept\u001b[0m \u001b[0mStopIteration\u001b[0m\u001b[0;34m:\u001b[0m\u001b[0;34m\u001b[0m\u001b[0;34m\u001b[0m\u001b[0m\n\u001b[1;32m   2039\u001b[0m             \u001b[0;32mif\u001b[0m \u001b[0mself\u001b[0m\u001b[0;34m.\u001b[0m\u001b[0m_first_chunk\u001b[0m\u001b[0;34m:\u001b[0m\u001b[0;34m\u001b[0m\u001b[0;34m\u001b[0m\u001b[0m\n",
      "\u001b[0;32mpandas/_libs/parsers.pyx\u001b[0m in \u001b[0;36mpandas._libs.parsers.TextReader.read\u001b[0;34m()\u001b[0m\n",
      "\u001b[0;32mpandas/_libs/parsers.pyx\u001b[0m in \u001b[0;36mpandas._libs.parsers.TextReader._read_low_memory\u001b[0;34m()\u001b[0m\n",
      "\u001b[0;32mpandas/_libs/parsers.pyx\u001b[0m in \u001b[0;36mpandas._libs.parsers.TextReader._read_rows\u001b[0;34m()\u001b[0m\n",
      "\u001b[0;32mpandas/_libs/parsers.pyx\u001b[0m in \u001b[0;36mpandas._libs.parsers.TextReader._tokenize_rows\u001b[0;34m()\u001b[0m\n",
      "\u001b[0;32mpandas/_libs/parsers.pyx\u001b[0m in \u001b[0;36mpandas._libs.parsers.raise_parser_error\u001b[0;34m()\u001b[0m\n",
      "\u001b[0;31mParserError\u001b[0m: Error tokenizing data. C error: Expected 4 fields in line 12, saw 6\n"
     ]
    }
   ],
   "source": [
    "fnbsummary_df=pd.read_csv(\"bank_summary.csv\").reset_index()"
   ]
  },
  {
   "cell_type": "code",
   "execution_count": 67,
   "metadata": {},
   "outputs": [
    {
     "name": "stdout",
     "output_type": "stream",
     "text": [
      "                      index  Account Summary:  Unnamed: 1 Unnamed: 2  \\\n",
      "0  Balance Brought Forward                 NaN      4 794        48    \n",
      "1           Sundry Credits                 NaN     51 298        80    \n",
      "2            Sundry Debits                 NaN     52 416       70-    \n",
      "3                  Charges                 NaN      1 920       50-    \n",
      "4                  Balance                 NaN      1 756        08    \n",
      "5          Overdraft Limit                 NaN          0        00    \n",
      "\n",
      "   Unnamed: 3  \n",
      "0         NaN  \n",
      "1         NaN  \n",
      "2         NaN  \n",
      "3         NaN  \n",
      "4         NaN  \n",
      "5         NaN  \n"
     ]
    }
   ],
   "source": [
    "print(summary_df)"
   ]
  },
  {
   "cell_type": "code",
   "execution_count": null,
   "metadata": {},
   "outputs": [],
   "source": []
  },
  {
   "cell_type": "code",
   "execution_count": 68,
   "metadata": {},
   "outputs": [
    {
     "name": "stdout",
     "output_type": "stream",
     "text": [
      "Index(['index', 'Account Summary: ', 'Unnamed: 1', 'Unnamed: 2', 'Unnamed: 3'], dtype='object')\n"
     ]
    }
   ],
   "source": [
    "print(summary_df.columns)"
   ]
  },
  {
   "cell_type": "code",
   "execution_count": 69,
   "metadata": {},
   "outputs": [],
   "source": [
    "summary_df=summary_df[['index', 'Unnamed: 1', 'Unnamed: 2',]]  "
   ]
  },
  {
   "cell_type": "code",
   "execution_count": 70,
   "metadata": {},
   "outputs": [],
   "source": [
    "summary_df.columns=['Account Summary', 'Rands', 'Cents']"
   ]
  },
  {
   "cell_type": "code",
   "execution_count": 71,
   "metadata": {},
   "outputs": [
    {
     "data": {
      "text/html": [
       "<div>\n",
       "<style scoped>\n",
       "    .dataframe tbody tr th:only-of-type {\n",
       "        vertical-align: middle;\n",
       "    }\n",
       "\n",
       "    .dataframe tbody tr th {\n",
       "        vertical-align: top;\n",
       "    }\n",
       "\n",
       "    .dataframe thead th {\n",
       "        text-align: right;\n",
       "    }\n",
       "</style>\n",
       "<table border=\"1\" class=\"dataframe\">\n",
       "  <thead>\n",
       "    <tr style=\"text-align: right;\">\n",
       "      <th></th>\n",
       "      <th>Account Summary</th>\n",
       "      <th>Rands</th>\n",
       "      <th>Cents</th>\n",
       "    </tr>\n",
       "  </thead>\n",
       "  <tbody>\n",
       "    <tr>\n",
       "      <th>0</th>\n",
       "      <td>Balance Brought Forward</td>\n",
       "      <td>4 794</td>\n",
       "      <td>48</td>\n",
       "    </tr>\n",
       "    <tr>\n",
       "      <th>1</th>\n",
       "      <td>Sundry Credits</td>\n",
       "      <td>51 298</td>\n",
       "      <td>80</td>\n",
       "    </tr>\n",
       "    <tr>\n",
       "      <th>2</th>\n",
       "      <td>Sundry Debits</td>\n",
       "      <td>52 416</td>\n",
       "      <td>70-</td>\n",
       "    </tr>\n",
       "    <tr>\n",
       "      <th>3</th>\n",
       "      <td>Charges</td>\n",
       "      <td>1 920</td>\n",
       "      <td>50-</td>\n",
       "    </tr>\n",
       "    <tr>\n",
       "      <th>4</th>\n",
       "      <td>Balance</td>\n",
       "      <td>1 756</td>\n",
       "      <td>08</td>\n",
       "    </tr>\n",
       "    <tr>\n",
       "      <th>5</th>\n",
       "      <td>Overdraft Limit</td>\n",
       "      <td>0</td>\n",
       "      <td>00</td>\n",
       "    </tr>\n",
       "  </tbody>\n",
       "</table>\n",
       "</div>"
      ],
      "text/plain": [
       "            Account Summary   Rands Cents\n",
       "0  Balance Brought Forward    4 794   48 \n",
       "1           Sundry Credits   51 298   80 \n",
       "2            Sundry Debits   52 416  70- \n",
       "3                  Charges    1 920  50- \n",
       "4                  Balance    1 756   08 \n",
       "5          Overdraft Limit        0   00 "
      ]
     },
     "execution_count": 71,
     "metadata": {},
     "output_type": "execute_result"
    }
   ],
   "source": [
    "summary_df"
   ]
  },
  {
   "cell_type": "code",
   "execution_count": 72,
   "metadata": {},
   "outputs": [],
   "source": [
    "amount=lambda x,y:x+'.'+y"
   ]
  },
  {
   "cell_type": "code",
   "execution_count": 73,
   "metadata": {},
   "outputs": [],
   "source": [
    "summary_df[\"Amount\"]=amount(summary_df[\"Rands\"],summary_df[\"Cents\"])"
   ]
  },
  {
   "cell_type": "code",
   "execution_count": 74,
   "metadata": {},
   "outputs": [
    {
     "data": {
      "text/html": [
       "<div>\n",
       "<style scoped>\n",
       "    .dataframe tbody tr th:only-of-type {\n",
       "        vertical-align: middle;\n",
       "    }\n",
       "\n",
       "    .dataframe tbody tr th {\n",
       "        vertical-align: top;\n",
       "    }\n",
       "\n",
       "    .dataframe thead th {\n",
       "        text-align: right;\n",
       "    }\n",
       "</style>\n",
       "<table border=\"1\" class=\"dataframe\">\n",
       "  <thead>\n",
       "    <tr style=\"text-align: right;\">\n",
       "      <th></th>\n",
       "      <th>Account Summary</th>\n",
       "      <th>Rands</th>\n",
       "      <th>Cents</th>\n",
       "      <th>Amount</th>\n",
       "    </tr>\n",
       "  </thead>\n",
       "  <tbody>\n",
       "    <tr>\n",
       "      <th>0</th>\n",
       "      <td>Balance Brought Forward</td>\n",
       "      <td>4 794</td>\n",
       "      <td>48</td>\n",
       "      <td>4 794.48</td>\n",
       "    </tr>\n",
       "    <tr>\n",
       "      <th>1</th>\n",
       "      <td>Sundry Credits</td>\n",
       "      <td>51 298</td>\n",
       "      <td>80</td>\n",
       "      <td>51 298.80</td>\n",
       "    </tr>\n",
       "    <tr>\n",
       "      <th>2</th>\n",
       "      <td>Sundry Debits</td>\n",
       "      <td>52 416</td>\n",
       "      <td>70-</td>\n",
       "      <td>52 416.70-</td>\n",
       "    </tr>\n",
       "    <tr>\n",
       "      <th>3</th>\n",
       "      <td>Charges</td>\n",
       "      <td>1 920</td>\n",
       "      <td>50-</td>\n",
       "      <td>1 920.50-</td>\n",
       "    </tr>\n",
       "    <tr>\n",
       "      <th>4</th>\n",
       "      <td>Balance</td>\n",
       "      <td>1 756</td>\n",
       "      <td>08</td>\n",
       "      <td>1 756.08</td>\n",
       "    </tr>\n",
       "    <tr>\n",
       "      <th>5</th>\n",
       "      <td>Overdraft Limit</td>\n",
       "      <td>0</td>\n",
       "      <td>00</td>\n",
       "      <td>0.00</td>\n",
       "    </tr>\n",
       "  </tbody>\n",
       "</table>\n",
       "</div>"
      ],
      "text/plain": [
       "            Account Summary   Rands Cents       Amount\n",
       "0  Balance Brought Forward    4 794   48     4 794.48 \n",
       "1           Sundry Credits   51 298   80    51 298.80 \n",
       "2            Sundry Debits   52 416  70-   52 416.70- \n",
       "3                  Charges    1 920  50-    1 920.50- \n",
       "4                  Balance    1 756   08     1 756.08 \n",
       "5          Overdraft Limit        0   00         0.00 "
      ]
     },
     "execution_count": 74,
     "metadata": {},
     "output_type": "execute_result"
    }
   ],
   "source": [
    "summary_df"
   ]
  },
  {
   "cell_type": "code",
   "execution_count": 75,
   "metadata": {},
   "outputs": [],
   "source": [
    "summary_df.drop([\"Rands\",\"Cents\"],axis=1,inplace=True)"
   ]
  },
  {
   "cell_type": "code",
   "execution_count": 76,
   "metadata": {},
   "outputs": [
    {
     "data": {
      "text/html": [
       "<div>\n",
       "<style scoped>\n",
       "    .dataframe tbody tr th:only-of-type {\n",
       "        vertical-align: middle;\n",
       "    }\n",
       "\n",
       "    .dataframe tbody tr th {\n",
       "        vertical-align: top;\n",
       "    }\n",
       "\n",
       "    .dataframe thead th {\n",
       "        text-align: right;\n",
       "    }\n",
       "</style>\n",
       "<table border=\"1\" class=\"dataframe\">\n",
       "  <thead>\n",
       "    <tr style=\"text-align: right;\">\n",
       "      <th></th>\n",
       "      <th>Account Summary</th>\n",
       "      <th>Amount</th>\n",
       "    </tr>\n",
       "  </thead>\n",
       "  <tbody>\n",
       "    <tr>\n",
       "      <th>0</th>\n",
       "      <td>Balance Brought Forward</td>\n",
       "      <td>4 794.48</td>\n",
       "    </tr>\n",
       "    <tr>\n",
       "      <th>1</th>\n",
       "      <td>Sundry Credits</td>\n",
       "      <td>51 298.80</td>\n",
       "    </tr>\n",
       "    <tr>\n",
       "      <th>2</th>\n",
       "      <td>Sundry Debits</td>\n",
       "      <td>52 416.70-</td>\n",
       "    </tr>\n",
       "    <tr>\n",
       "      <th>3</th>\n",
       "      <td>Charges</td>\n",
       "      <td>1 920.50-</td>\n",
       "    </tr>\n",
       "    <tr>\n",
       "      <th>4</th>\n",
       "      <td>Balance</td>\n",
       "      <td>1 756.08</td>\n",
       "    </tr>\n",
       "    <tr>\n",
       "      <th>5</th>\n",
       "      <td>Overdraft Limit</td>\n",
       "      <td>0.00</td>\n",
       "    </tr>\n",
       "  </tbody>\n",
       "</table>\n",
       "</div>"
      ],
      "text/plain": [
       "            Account Summary       Amount\n",
       "0  Balance Brought Forward     4 794.48 \n",
       "1           Sundry Credits    51 298.80 \n",
       "2            Sundry Debits   52 416.70- \n",
       "3                  Charges    1 920.50- \n",
       "4                  Balance     1 756.08 \n",
       "5          Overdraft Limit         0.00 "
      ]
     },
     "execution_count": 76,
     "metadata": {},
     "output_type": "execute_result"
    }
   ],
   "source": [
    "summary_df"
   ]
  },
  {
   "cell_type": "code",
   "execution_count": 77,
   "metadata": {},
   "outputs": [],
   "source": [
    "Sign= lambda X:'-' if X.strip().endswith('-') else \"+\""
   ]
  },
  {
   "cell_type": "code",
   "execution_count": 78,
   "metadata": {},
   "outputs": [],
   "source": [
    "summary_df[\"sign\"]=summary_df[\"Amount\"].apply(Sign)"
   ]
  },
  {
   "cell_type": "code",
   "execution_count": 79,
   "metadata": {},
   "outputs": [],
   "source": [
    "import ast"
   ]
  },
  {
   "cell_type": "code",
   "execution_count": 80,
   "metadata": {},
   "outputs": [],
   "source": [
    "summary_df[\"Amount\"]=summary_df[\"Amount\"].apply(lambda X:float(X.replace(\" \",\"\").replace(\"-\",\"\")))"
   ]
  },
  {
   "cell_type": "code",
   "execution_count": 81,
   "metadata": {},
   "outputs": [
    {
     "data": {
      "text/html": [
       "<div>\n",
       "<style scoped>\n",
       "    .dataframe tbody tr th:only-of-type {\n",
       "        vertical-align: middle;\n",
       "    }\n",
       "\n",
       "    .dataframe tbody tr th {\n",
       "        vertical-align: top;\n",
       "    }\n",
       "\n",
       "    .dataframe thead th {\n",
       "        text-align: right;\n",
       "    }\n",
       "</style>\n",
       "<table border=\"1\" class=\"dataframe\">\n",
       "  <thead>\n",
       "    <tr style=\"text-align: right;\">\n",
       "      <th></th>\n",
       "      <th>0</th>\n",
       "      <th>1</th>\n",
       "      <th>2</th>\n",
       "      <th>3</th>\n",
       "      <th>4</th>\n",
       "      <th>5</th>\n",
       "    </tr>\n",
       "  </thead>\n",
       "  <tbody>\n",
       "    <tr>\n",
       "      <th>Account Summary</th>\n",
       "      <td>Balance Brought Forward</td>\n",
       "      <td>Sundry Credits</td>\n",
       "      <td>Sundry Debits</td>\n",
       "      <td>Charges</td>\n",
       "      <td>Balance</td>\n",
       "      <td>Overdraft Limit</td>\n",
       "    </tr>\n",
       "    <tr>\n",
       "      <th>Amount</th>\n",
       "      <td>4794.48</td>\n",
       "      <td>51298.8</td>\n",
       "      <td>52416.7</td>\n",
       "      <td>1920.5</td>\n",
       "      <td>1756.08</td>\n",
       "      <td>0</td>\n",
       "    </tr>\n",
       "    <tr>\n",
       "      <th>sign</th>\n",
       "      <td>+</td>\n",
       "      <td>+</td>\n",
       "      <td>-</td>\n",
       "      <td>-</td>\n",
       "      <td>+</td>\n",
       "      <td>+</td>\n",
       "    </tr>\n",
       "  </tbody>\n",
       "</table>\n",
       "</div>"
      ],
      "text/plain": [
       "                                        0                1               2  \\\n",
       "Account Summary  Balance Brought Forward   Sundry Credits   Sundry Debits    \n",
       "Amount                            4794.48          51298.8         52416.7   \n",
       "sign                                    +                +               -   \n",
       "\n",
       "                        3         4                 5  \n",
       "Account Summary  Charges   Balance   Overdraft Limit   \n",
       "Amount             1920.5   1756.08                 0  \n",
       "sign                    -         +                 +  "
      ]
     },
     "execution_count": 81,
     "metadata": {},
     "output_type": "execute_result"
    }
   ],
   "source": [
    "summary_df.T"
   ]
  },
  {
   "cell_type": "code",
   "execution_count": 82,
   "metadata": {},
   "outputs": [],
   "source": [
    "amount_df = summary_df.T.loc[[\"Amount\"]]"
   ]
  },
  {
   "cell_type": "code",
   "execution_count": 83,
   "metadata": {},
   "outputs": [],
   "source": [
    "balance = amount_df[4].values[0]\n",
    "bbf = amount_df[0].values[0]"
   ]
  },
  {
   "cell_type": "code",
   "execution_count": 84,
   "metadata": {},
   "outputs": [
    {
     "data": {
      "text/plain": [
       "1756.08"
      ]
     },
     "execution_count": 84,
     "metadata": {},
     "output_type": "execute_result"
    }
   ],
   "source": [
    "balance"
   ]
  },
  {
   "cell_type": "code",
   "execution_count": 85,
   "metadata": {},
   "outputs": [
    {
     "data": {
      "text/plain": [
       "4794.48"
      ]
     },
     "execution_count": 85,
     "metadata": {},
     "output_type": "execute_result"
    }
   ],
   "source": [
    "bbf"
   ]
  },
  {
   "cell_type": "code",
   "execution_count": 86,
   "metadata": {
    "scrolled": false
   },
   "outputs": [
    {
     "data": {
      "text/html": [
       "<div>\n",
       "<style scoped>\n",
       "    .dataframe tbody tr th:only-of-type {\n",
       "        vertical-align: middle;\n",
       "    }\n",
       "\n",
       "    .dataframe tbody tr th {\n",
       "        vertical-align: top;\n",
       "    }\n",
       "\n",
       "    .dataframe thead th {\n",
       "        text-align: right;\n",
       "    }\n",
       "</style>\n",
       "<table border=\"1\" class=\"dataframe\">\n",
       "  <thead>\n",
       "    <tr style=\"text-align: right;\">\n",
       "      <th></th>\n",
       "      <th>Date</th>\n",
       "      <th>Transaction Description</th>\n",
       "      <th>Charge</th>\n",
       "      <th>Unnamed: 3</th>\n",
       "      <th>Debit Amount</th>\n",
       "      <th>Credit Amount</th>\n",
       "      <th>Balance</th>\n",
       "      <th>Unnamed: 7</th>\n",
       "    </tr>\n",
       "  </thead>\n",
       "  <tbody>\n",
       "    <tr>\n",
       "      <th>0</th>\n",
       "      <td>5/03/2019 5/03/2019</td>\n",
       "      <td>Bal Brought Forward Airtime Debit Tiq001absa C...</td>\n",
       "      <td>1.5</td>\n",
       "      <td>T</td>\n",
       "      <td>499.00</td>\n",
       "      <td>NaN</td>\n",
       "      <td>4 794.48 4 295.48</td>\n",
       "      <td>NaN</td>\n",
       "    </tr>\n",
       "    <tr>\n",
       "      <th>1</th>\n",
       "      <td>7/03/2019</td>\n",
       "      <td>Acb Debit:External Settlement lairdressihairdr...</td>\n",
       "      <td>19.0</td>\n",
       "      <td>T</td>\n",
       "      <td>3 662.00</td>\n",
       "      <td>NaN</td>\n",
       "      <td>633.48</td>\n",
       "      <td>NaN</td>\n",
       "    </tr>\n",
       "    <tr>\n",
       "      <th>2</th>\n",
       "      <td>12/03/2019</td>\n",
       "      <td>Acb Credit Settlement Hollard Etimage004-0016</td>\n",
       "      <td>NaN</td>\n",
       "      <td>NaN</td>\n",
       "      <td>NaN</td>\n",
       "      <td>6 298.80</td>\n",
       "      <td>6 932.28</td>\n",
       "      <td>NaN</td>\n",
       "    </tr>\n",
       "    <tr>\n",
       "      <th>3</th>\n",
       "      <td>15/03/2019</td>\n",
       "      <td>Acb Debit:Externa Settlement Centrafin Debit 0...</td>\n",
       "      <td>19.0</td>\n",
       "      <td>T</td>\n",
       "      <td>1 325.16</td>\n",
       "      <td>NaN</td>\n",
       "      <td>5 607.12</td>\n",
       "      <td>NaN</td>\n",
       "    </tr>\n",
       "    <tr>\n",
       "      <th>4</th>\n",
       "      <td>18/03/2019</td>\n",
       "      <td>Airtime Debit Tiq001absa</td>\n",
       "      <td>1.5</td>\n",
       "      <td>T</td>\n",
       "      <td>110.00</td>\n",
       "      <td>NaN</td>\n",
       "      <td>5 497.12</td>\n",
       "      <td>NaN</td>\n",
       "    </tr>\n",
       "  </tbody>\n",
       "</table>\n",
       "</div>"
      ],
      "text/plain": [
       "                  Date                            Transaction Description   \\\n",
       "0  5/03/2019 5/03/2019   Bal Brought Forward Airtime Debit Tiq001absa C...   \n",
       "1            7/03/2019   Acb Debit:External Settlement lairdressihairdr...   \n",
       "2           12/03/2019      Acb Credit Settlement Hollard Etimage004-0016    \n",
       "3           15/03/2019   Acb Debit:Externa Settlement Centrafin Debit 0...   \n",
       "4           18/03/2019                           Airtime Debit Tiq001absa    \n",
       "\n",
       "   Charge  Unnamed: 3 Debit Amount  Credit Amount             Balance   \\\n",
       "0      1.5         T        499.00             NaN  4 794.48 4 295.48    \n",
       "1     19.0         T      3 662.00             NaN             633.48    \n",
       "2      NaN        NaN           NaN      6 298.80            6 932.28    \n",
       "3     19.0         T      1 325.16             NaN           5 607.12    \n",
       "4      1.5         T        110.00             NaN           5 497.12    \n",
       "\n",
       "   Unnamed: 7  \n",
       "0         NaN  \n",
       "1         NaN  \n",
       "2         NaN  \n",
       "3         NaN  \n",
       "4         NaN  "
      ]
     },
     "execution_count": 86,
     "metadata": {},
     "output_type": "execute_result"
    }
   ],
   "source": [
    "bank_df.head()"
   ]
  },
  {
   "cell_type": "code",
   "execution_count": 87,
   "metadata": {},
   "outputs": [
    {
     "data": {
      "text/html": [
       "<div>\n",
       "<style scoped>\n",
       "    .dataframe tbody tr th:only-of-type {\n",
       "        vertical-align: middle;\n",
       "    }\n",
       "\n",
       "    .dataframe tbody tr th {\n",
       "        vertical-align: top;\n",
       "    }\n",
       "\n",
       "    .dataframe thead th {\n",
       "        text-align: right;\n",
       "    }\n",
       "</style>\n",
       "<table border=\"1\" class=\"dataframe\">\n",
       "  <thead>\n",
       "    <tr style=\"text-align: right;\">\n",
       "      <th></th>\n",
       "      <th>Date</th>\n",
       "      <th>Transaction Description</th>\n",
       "      <th>Charge</th>\n",
       "      <th>Unnamed: 3</th>\n",
       "      <th>Debit Amount</th>\n",
       "      <th>Credit Amount</th>\n",
       "      <th>Balance</th>\n",
       "      <th>Unnamed: 7</th>\n",
       "    </tr>\n",
       "  </thead>\n",
       "  <tbody>\n",
       "    <tr>\n",
       "      <th>13</th>\n",
       "      <td>NaN</td>\n",
       "      <td>1400154585 Absa Bank 1400154585</td>\n",
       "      <td>NaN</td>\n",
       "      <td>NaN</td>\n",
       "      <td>NaN</td>\n",
       "      <td>NaN</td>\n",
       "      <td>NaN</td>\n",
       "      <td>NaN</td>\n",
       "    </tr>\n",
       "    <tr>\n",
       "      <th>14</th>\n",
       "      <td>30/03/2019</td>\n",
       "      <td>Internet Bank Fee Settlement</td>\n",
       "      <td>NaN</td>\n",
       "      <td>*k</td>\n",
       "      <td>1 052.50</td>\n",
       "      <td>NaN</td>\n",
       "      <td>9 852.80</td>\n",
       "      <td>NaN</td>\n",
       "    </tr>\n",
       "    <tr>\n",
       "      <th>15</th>\n",
       "      <td>1/04/2019</td>\n",
       "      <td>Monthly Acc Fee Headoffice</td>\n",
       "      <td>NaN</td>\n",
       "      <td>*k</td>\n",
       "      <td>75.00</td>\n",
       "      <td>NaN</td>\n",
       "      <td>9 777.80</td>\n",
       "      <td>NaN</td>\n",
       "    </tr>\n",
       "    <tr>\n",
       "      <th>16</th>\n",
       "      <td>1/04/2019</td>\n",
       "      <td>Transaction Charge Headoffice</td>\n",
       "      <td>NaN</td>\n",
       "      <td>*k</td>\n",
       "      <td>193.00</td>\n",
       "      <td>NaN</td>\n",
       "      <td>9 584.80</td>\n",
       "      <td>NaN</td>\n",
       "    </tr>\n",
       "    <tr>\n",
       "      <th>17</th>\n",
       "      <td>NaN</td>\n",
       "      <td>NaN</td>\n",
       "      <td>NaN</td>\n",
       "      <td>NaN</td>\n",
       "      <td>NaN</td>\n",
       "      <td>NaN</td>\n",
       "      <td>NaN</td>\n",
       "      <td>NaN</td>\n",
       "    </tr>\n",
       "  </tbody>\n",
       "</table>\n",
       "</div>"
      ],
      "text/plain": [
       "          Date           Transaction Description   Charge  Unnamed: 3  \\\n",
       "13          NaN  1400154585 Absa Bank 1400154585       NaN        NaN   \n",
       "14  30/03/2019      Internet Bank Fee Settlement       NaN        *k    \n",
       "15   1/04/2019        Monthly Acc Fee Headoffice       NaN        *k    \n",
       "16   1/04/2019     Transaction Charge Headoffice       NaN        *k    \n",
       "17          NaN                               NaN      NaN        NaN   \n",
       "\n",
       "   Debit Amount  Credit Amount    Balance   Unnamed: 7  \n",
       "13           NaN            NaN        NaN         NaN  \n",
       "14     1 052.50             NaN  9 852.80          NaN  \n",
       "15        75.00             NaN  9 777.80          NaN  \n",
       "16       193.00             NaN  9 584.80          NaN  \n",
       "17           NaN            NaN        NaN         NaN  "
      ]
     },
     "execution_count": 87,
     "metadata": {},
     "output_type": "execute_result"
    }
   ],
   "source": [
    "bank_df.tail()"
   ]
  },
  {
   "cell_type": "code",
   "execution_count": 88,
   "metadata": {},
   "outputs": [
    {
     "data": {
      "text/html": [
       "<div>\n",
       "<style scoped>\n",
       "    .dataframe tbody tr th:only-of-type {\n",
       "        vertical-align: middle;\n",
       "    }\n",
       "\n",
       "    .dataframe tbody tr th {\n",
       "        vertical-align: top;\n",
       "    }\n",
       "\n",
       "    .dataframe thead th {\n",
       "        text-align: right;\n",
       "    }\n",
       "</style>\n",
       "<table border=\"1\" class=\"dataframe\">\n",
       "  <thead>\n",
       "    <tr style=\"text-align: right;\">\n",
       "      <th></th>\n",
       "      <th>0</th>\n",
       "      <th>1</th>\n",
       "      <th>2</th>\n",
       "      <th>3</th>\n",
       "      <th>4</th>\n",
       "    </tr>\n",
       "  </thead>\n",
       "  <tbody>\n",
       "    <tr>\n",
       "      <th>Account Summary</th>\n",
       "      <td>Balance Brought Forward</td>\n",
       "      <td>Sundry Credits</td>\n",
       "      <td>Sundry Debits</td>\n",
       "      <td>Charges</td>\n",
       "      <td>Balance</td>\n",
       "    </tr>\n",
       "    <tr>\n",
       "      <th>Amount</th>\n",
       "      <td>4794.48</td>\n",
       "      <td>51298.8</td>\n",
       "      <td>52416.7</td>\n",
       "      <td>1920.5</td>\n",
       "      <td>1756.08</td>\n",
       "    </tr>\n",
       "    <tr>\n",
       "      <th>sign</th>\n",
       "      <td>+</td>\n",
       "      <td>+</td>\n",
       "      <td>-</td>\n",
       "      <td>-</td>\n",
       "      <td>+</td>\n",
       "    </tr>\n",
       "  </tbody>\n",
       "</table>\n",
       "</div>"
      ],
      "text/plain": [
       "                                        0                1               2  \\\n",
       "Account Summary  Balance Brought Forward   Sundry Credits   Sundry Debits    \n",
       "Amount                            4794.48          51298.8         52416.7   \n",
       "sign                                    +                +               -   \n",
       "\n",
       "                        3         4  \n",
       "Account Summary  Charges   Balance   \n",
       "Amount             1920.5   1756.08  \n",
       "sign                    -         +  "
      ]
     },
     "execution_count": 88,
     "metadata": {},
     "output_type": "execute_result"
    }
   ],
   "source": [
    "summary_df.head().T"
   ]
  },
  {
   "cell_type": "code",
   "execution_count": 89,
   "metadata": {},
   "outputs": [],
   "source": [
    "df_statement=pd.read_json('ABSA.json')"
   ]
  },
  {
   "cell_type": "code",
   "execution_count": 90,
   "metadata": {},
   "outputs": [
    {
     "data": {
      "text/plain": [
       "0    [{'BlockType': 'PAGE', 'Geometry': {'BoundingB...\n",
       "1    [{'BlockType': 'WORD', 'Confidence': 99.950119...\n",
       "Name: Blocks, dtype: object"
      ]
     },
     "execution_count": 90,
     "metadata": {},
     "output_type": "execute_result"
    }
   ],
   "source": [
    "df_statement['Blocks']"
   ]
  },
  {
   "cell_type": "code",
   "execution_count": 91,
   "metadata": {},
   "outputs": [],
   "source": [
    "output_file = 'output.csv'\n",
    "\n",
    "# replace content\n",
    "with open(output_file, \"wt\")as fout:\n",
    "      fout.write(str(csv))\n",
    "\n",
    "      fout.close()\n",
    "\n"
   ]
  },
  {
   "cell_type": "code",
   "execution_count": 92,
   "metadata": {
    "scrolled": false
   },
   "outputs": [],
   "source": [
    "statement_df= pd.read_csv('bank_statement.csv')"
   ]
  },
  {
   "cell_type": "code",
   "execution_count": 93,
   "metadata": {},
   "outputs": [],
   "source": [
    "statement_df.replace({np.NaN:0},inplace=True)"
   ]
  },
  {
   "cell_type": "code",
   "execution_count": null,
   "metadata": {},
   "outputs": [],
   "source": []
  },
  {
   "cell_type": "code",
   "execution_count": 94,
   "metadata": {},
   "outputs": [
    {
     "data": {
      "text/html": [
       "<div>\n",
       "<style scoped>\n",
       "    .dataframe tbody tr th:only-of-type {\n",
       "        vertical-align: middle;\n",
       "    }\n",
       "\n",
       "    .dataframe tbody tr th {\n",
       "        vertical-align: top;\n",
       "    }\n",
       "\n",
       "    .dataframe thead th {\n",
       "        text-align: right;\n",
       "    }\n",
       "</style>\n",
       "<table border=\"1\" class=\"dataframe\">\n",
       "  <thead>\n",
       "    <tr style=\"text-align: right;\">\n",
       "      <th></th>\n",
       "      <th>Date</th>\n",
       "      <th>Transaction Description</th>\n",
       "      <th>Charge</th>\n",
       "      <th>Unnamed: 3</th>\n",
       "      <th>Debit Amount</th>\n",
       "      <th>Credit Amount</th>\n",
       "      <th>Balance</th>\n",
       "      <th>Unnamed: 7</th>\n",
       "    </tr>\n",
       "  </thead>\n",
       "  <tbody>\n",
       "    <tr>\n",
       "      <th>0</th>\n",
       "      <td>5/03/2019 5/03/2019</td>\n",
       "      <td>Bal Brought Forward Airtime Debit Tiq001absa C...</td>\n",
       "      <td>1.5</td>\n",
       "      <td>T</td>\n",
       "      <td>499.00</td>\n",
       "      <td>0</td>\n",
       "      <td>4 794.48 4 295.48</td>\n",
       "      <td>0.0</td>\n",
       "    </tr>\n",
       "    <tr>\n",
       "      <th>1</th>\n",
       "      <td>7/03/2019</td>\n",
       "      <td>Acb Debit:External Settlement lairdressihairdr...</td>\n",
       "      <td>19.0</td>\n",
       "      <td>T</td>\n",
       "      <td>3 662.00</td>\n",
       "      <td>0</td>\n",
       "      <td>633.48</td>\n",
       "      <td>0.0</td>\n",
       "    </tr>\n",
       "    <tr>\n",
       "      <th>2</th>\n",
       "      <td>12/03/2019</td>\n",
       "      <td>Acb Credit Settlement Hollard Etimage004-0016</td>\n",
       "      <td>0.0</td>\n",
       "      <td>0</td>\n",
       "      <td>0</td>\n",
       "      <td>6 298.80</td>\n",
       "      <td>6 932.28</td>\n",
       "      <td>0.0</td>\n",
       "    </tr>\n",
       "    <tr>\n",
       "      <th>3</th>\n",
       "      <td>15/03/2019</td>\n",
       "      <td>Acb Debit:Externa Settlement Centrafin Debit 0...</td>\n",
       "      <td>19.0</td>\n",
       "      <td>T</td>\n",
       "      <td>1 325.16</td>\n",
       "      <td>0</td>\n",
       "      <td>5 607.12</td>\n",
       "      <td>0.0</td>\n",
       "    </tr>\n",
       "    <tr>\n",
       "      <th>4</th>\n",
       "      <td>18/03/2019</td>\n",
       "      <td>Airtime Debit Tiq001absa</td>\n",
       "      <td>1.5</td>\n",
       "      <td>T</td>\n",
       "      <td>110.00</td>\n",
       "      <td>0</td>\n",
       "      <td>5 497.12</td>\n",
       "      <td>0.0</td>\n",
       "    </tr>\n",
       "    <tr>\n",
       "      <th>5</th>\n",
       "      <td>19/03/2019</td>\n",
       "      <td>Card No. 4971 Vodacom: 0824941097 bank Payment...</td>\n",
       "      <td>0.0</td>\n",
       "      <td>0</td>\n",
       "      <td>1 000.00</td>\n",
       "      <td>0</td>\n",
       "      <td>4 497.12</td>\n",
       "      <td>0.0</td>\n",
       "    </tr>\n",
       "    <tr>\n",
       "      <th>6</th>\n",
       "      <td>27/03/2019</td>\n",
       "      <td>Npf Credit Treas/lbs</td>\n",
       "      <td>0.0</td>\n",
       "      <td>0</td>\n",
       "      <td>0</td>\n",
       "      <td>10 000.00</td>\n",
       "      <td>14 497.12</td>\n",
       "      <td>0.0</td>\n",
       "    </tr>\n",
       "    <tr>\n",
       "      <th>7</th>\n",
       "      <td>27/03/2019</td>\n",
       "      <td>Eftbbl2tllvpf002/Images 1 Fnb bank Transfer Se...</td>\n",
       "      <td>0.0</td>\n",
       "      <td>0</td>\n",
       "      <td>13 000.00</td>\n",
       "      <td>0</td>\n",
       "      <td>1 497.12</td>\n",
       "      <td>0.0</td>\n",
       "    </tr>\n",
       "    <tr>\n",
       "      <th>8</th>\n",
       "      <td>29/03/2019</td>\n",
       "      <td>1400154585 Absa Bank 1400154585 Acb Debit:Exte...</td>\n",
       "      <td>19.0</td>\n",
       "      <td>T</td>\n",
       "      <td>591.82</td>\n",
       "      <td>0</td>\n",
       "      <td>905.30</td>\n",
       "      <td>0.0</td>\n",
       "    </tr>\n",
       "    <tr>\n",
       "      <th>9</th>\n",
       "      <td>0</td>\n",
       "      <td>Nashua Ec 7127 Nashua Ec</td>\n",
       "      <td>0.0</td>\n",
       "      <td>0</td>\n",
       "      <td>0</td>\n",
       "      <td>0</td>\n",
       "      <td>0</td>\n",
       "      <td>0.0</td>\n",
       "    </tr>\n",
       "    <tr>\n",
       "      <th>10</th>\n",
       "      <td>30/03/2019</td>\n",
       "      <td>Npf Credit Treas/lbs</td>\n",
       "      <td>0.0</td>\n",
       "      <td>0</td>\n",
       "      <td>0</td>\n",
       "      <td>15 000.00</td>\n",
       "      <td>15 905.30</td>\n",
       "      <td>0.0</td>\n",
       "    </tr>\n",
       "    <tr>\n",
       "      <th>11</th>\n",
       "      <td>0</td>\n",
       "      <td>Eftbb45jjd3pf002/Images 1 Fnb</td>\n",
       "      <td>0.0</td>\n",
       "      <td>0</td>\n",
       "      <td>0</td>\n",
       "      <td>0</td>\n",
       "      <td>0</td>\n",
       "      <td>0.0</td>\n",
       "    </tr>\n",
       "    <tr>\n",
       "      <th>12</th>\n",
       "      <td>30/03/2019</td>\n",
       "      <td>bank Transfer Settlement</td>\n",
       "      <td>0.0</td>\n",
       "      <td>0</td>\n",
       "      <td>5 000.00</td>\n",
       "      <td>0</td>\n",
       "      <td>0 905.30</td>\n",
       "      <td>0.0</td>\n",
       "    </tr>\n",
       "    <tr>\n",
       "      <th>13</th>\n",
       "      <td>0</td>\n",
       "      <td>1400154585 Absa Bank 1400154585</td>\n",
       "      <td>0.0</td>\n",
       "      <td>0</td>\n",
       "      <td>0</td>\n",
       "      <td>0</td>\n",
       "      <td>0</td>\n",
       "      <td>0.0</td>\n",
       "    </tr>\n",
       "    <tr>\n",
       "      <th>14</th>\n",
       "      <td>30/03/2019</td>\n",
       "      <td>Internet Bank Fee Settlement</td>\n",
       "      <td>0.0</td>\n",
       "      <td>*k</td>\n",
       "      <td>1 052.50</td>\n",
       "      <td>0</td>\n",
       "      <td>9 852.80</td>\n",
       "      <td>0.0</td>\n",
       "    </tr>\n",
       "    <tr>\n",
       "      <th>15</th>\n",
       "      <td>1/04/2019</td>\n",
       "      <td>Monthly Acc Fee Headoffice</td>\n",
       "      <td>0.0</td>\n",
       "      <td>*k</td>\n",
       "      <td>75.00</td>\n",
       "      <td>0</td>\n",
       "      <td>9 777.80</td>\n",
       "      <td>0.0</td>\n",
       "    </tr>\n",
       "    <tr>\n",
       "      <th>16</th>\n",
       "      <td>1/04/2019</td>\n",
       "      <td>Transaction Charge Headoffice</td>\n",
       "      <td>0.0</td>\n",
       "      <td>*k</td>\n",
       "      <td>193.00</td>\n",
       "      <td>0</td>\n",
       "      <td>9 584.80</td>\n",
       "      <td>0.0</td>\n",
       "    </tr>\n",
       "    <tr>\n",
       "      <th>17</th>\n",
       "      <td>0</td>\n",
       "      <td>0</td>\n",
       "      <td>0.0</td>\n",
       "      <td>0</td>\n",
       "      <td>0</td>\n",
       "      <td>0</td>\n",
       "      <td>0</td>\n",
       "      <td>0.0</td>\n",
       "    </tr>\n",
       "  </tbody>\n",
       "</table>\n",
       "</div>"
      ],
      "text/plain": [
       "                   Date                            Transaction Description   \\\n",
       "0   5/03/2019 5/03/2019   Bal Brought Forward Airtime Debit Tiq001absa C...   \n",
       "1             7/03/2019   Acb Debit:External Settlement lairdressihairdr...   \n",
       "2            12/03/2019      Acb Credit Settlement Hollard Etimage004-0016    \n",
       "3            15/03/2019   Acb Debit:Externa Settlement Centrafin Debit 0...   \n",
       "4            18/03/2019                           Airtime Debit Tiq001absa    \n",
       "5            19/03/2019   Card No. 4971 Vodacom: 0824941097 bank Payment...   \n",
       "6            27/03/2019                               Npf Credit Treas/lbs    \n",
       "7            27/03/2019   Eftbbl2tllvpf002/Images 1 Fnb bank Transfer Se...   \n",
       "8            29/03/2019   1400154585 Absa Bank 1400154585 Acb Debit:Exte...   \n",
       "9                      0                          Nashua Ec 7127 Nashua Ec    \n",
       "10           30/03/2019                               Npf Credit Treas/lbs    \n",
       "11                     0                     Eftbb45jjd3pf002/Images 1 Fnb    \n",
       "12           30/03/2019                           bank Transfer Settlement    \n",
       "13                     0                   1400154585 Absa Bank 1400154585    \n",
       "14           30/03/2019                       Internet Bank Fee Settlement    \n",
       "15            1/04/2019                         Monthly Acc Fee Headoffice    \n",
       "16            1/04/2019                      Transaction Charge Headoffice    \n",
       "17                     0                                                  0   \n",
       "\n",
       "    Charge  Unnamed: 3 Debit Amount  Credit Amount             Balance   \\\n",
       "0       1.5         T        499.00               0  4 794.48 4 295.48    \n",
       "1      19.0         T      3 662.00               0             633.48    \n",
       "2       0.0          0             0      6 298.80            6 932.28    \n",
       "3      19.0         T      1 325.16               0           5 607.12    \n",
       "4       1.5         T        110.00               0           5 497.12    \n",
       "5       0.0          0     1 000.00               0           4 497.12    \n",
       "6       0.0          0             0     10 000.00           14 497.12    \n",
       "7       0.0          0    13 000.00               0           1 497.12    \n",
       "8      19.0         T        591.82               0             905.30    \n",
       "9       0.0          0             0              0                   0   \n",
       "10      0.0          0             0     15 000.00           15 905.30    \n",
       "11      0.0          0             0              0                   0   \n",
       "12      0.0          0     5 000.00               0           0 905.30    \n",
       "13      0.0          0             0              0                   0   \n",
       "14      0.0        *k      1 052.50               0           9 852.80    \n",
       "15      0.0        *k         75.00               0           9 777.80    \n",
       "16      0.0        *k        193.00               0           9 584.80    \n",
       "17      0.0          0             0              0                   0   \n",
       "\n",
       "    Unnamed: 7  \n",
       "0          0.0  \n",
       "1          0.0  \n",
       "2          0.0  \n",
       "3          0.0  \n",
       "4          0.0  \n",
       "5          0.0  \n",
       "6          0.0  \n",
       "7          0.0  \n",
       "8          0.0  \n",
       "9          0.0  \n",
       "10         0.0  \n",
       "11         0.0  \n",
       "12         0.0  \n",
       "13         0.0  \n",
       "14         0.0  \n",
       "15         0.0  \n",
       "16         0.0  \n",
       "17         0.0  "
      ]
     },
     "execution_count": 94,
     "metadata": {},
     "output_type": "execute_result"
    }
   ],
   "source": [
    "statement_df"
   ]
  },
  {
   "cell_type": "code",
   "execution_count": 95,
   "metadata": {},
   "outputs": [],
   "source": [
    "statement_df=statement_df[['Date ', 'Transaction Description ', 'Charge ',\n",
    "       'Debit Amount ', 'Credit Amount ', 'Balance ']]"
   ]
  },
  {
   "cell_type": "code",
   "execution_count": 96,
   "metadata": {},
   "outputs": [],
   "source": [
    "statement_df=statement_df[statement_df['Date ']!= 0]"
   ]
  },
  {
   "cell_type": "code",
   "execution_count": 97,
   "metadata": {},
   "outputs": [
    {
     "data": {
      "text/html": [
       "<div>\n",
       "<style scoped>\n",
       "    .dataframe tbody tr th:only-of-type {\n",
       "        vertical-align: middle;\n",
       "    }\n",
       "\n",
       "    .dataframe tbody tr th {\n",
       "        vertical-align: top;\n",
       "    }\n",
       "\n",
       "    .dataframe thead th {\n",
       "        text-align: right;\n",
       "    }\n",
       "</style>\n",
       "<table border=\"1\" class=\"dataframe\">\n",
       "  <thead>\n",
       "    <tr style=\"text-align: right;\">\n",
       "      <th></th>\n",
       "      <th>Date</th>\n",
       "      <th>Transaction Description</th>\n",
       "      <th>Charge</th>\n",
       "      <th>Debit Amount</th>\n",
       "      <th>Credit Amount</th>\n",
       "      <th>Balance</th>\n",
       "    </tr>\n",
       "  </thead>\n",
       "  <tbody>\n",
       "    <tr>\n",
       "      <th>0</th>\n",
       "      <td>5/03/2019 5/03/2019</td>\n",
       "      <td>Bal Brought Forward Airtime Debit Tiq001absa C...</td>\n",
       "      <td>1.5</td>\n",
       "      <td>499.00</td>\n",
       "      <td>0</td>\n",
       "      <td>4 794.48 4 295.48</td>\n",
       "    </tr>\n",
       "    <tr>\n",
       "      <th>1</th>\n",
       "      <td>7/03/2019</td>\n",
       "      <td>Acb Debit:External Settlement lairdressihairdr...</td>\n",
       "      <td>19.0</td>\n",
       "      <td>3 662.00</td>\n",
       "      <td>0</td>\n",
       "      <td>633.48</td>\n",
       "    </tr>\n",
       "    <tr>\n",
       "      <th>2</th>\n",
       "      <td>12/03/2019</td>\n",
       "      <td>Acb Credit Settlement Hollard Etimage004-0016</td>\n",
       "      <td>0.0</td>\n",
       "      <td>0</td>\n",
       "      <td>6 298.80</td>\n",
       "      <td>6 932.28</td>\n",
       "    </tr>\n",
       "    <tr>\n",
       "      <th>3</th>\n",
       "      <td>15/03/2019</td>\n",
       "      <td>Acb Debit:Externa Settlement Centrafin Debit 0...</td>\n",
       "      <td>19.0</td>\n",
       "      <td>1 325.16</td>\n",
       "      <td>0</td>\n",
       "      <td>5 607.12</td>\n",
       "    </tr>\n",
       "    <tr>\n",
       "      <th>4</th>\n",
       "      <td>18/03/2019</td>\n",
       "      <td>Airtime Debit Tiq001absa</td>\n",
       "      <td>1.5</td>\n",
       "      <td>110.00</td>\n",
       "      <td>0</td>\n",
       "      <td>5 497.12</td>\n",
       "    </tr>\n",
       "    <tr>\n",
       "      <th>5</th>\n",
       "      <td>19/03/2019</td>\n",
       "      <td>Card No. 4971 Vodacom: 0824941097 bank Payment...</td>\n",
       "      <td>0.0</td>\n",
       "      <td>1 000.00</td>\n",
       "      <td>0</td>\n",
       "      <td>4 497.12</td>\n",
       "    </tr>\n",
       "    <tr>\n",
       "      <th>6</th>\n",
       "      <td>27/03/2019</td>\n",
       "      <td>Npf Credit Treas/lbs</td>\n",
       "      <td>0.0</td>\n",
       "      <td>0</td>\n",
       "      <td>10 000.00</td>\n",
       "      <td>14 497.12</td>\n",
       "    </tr>\n",
       "    <tr>\n",
       "      <th>7</th>\n",
       "      <td>27/03/2019</td>\n",
       "      <td>Eftbbl2tllvpf002/Images 1 Fnb bank Transfer Se...</td>\n",
       "      <td>0.0</td>\n",
       "      <td>13 000.00</td>\n",
       "      <td>0</td>\n",
       "      <td>1 497.12</td>\n",
       "    </tr>\n",
       "    <tr>\n",
       "      <th>8</th>\n",
       "      <td>29/03/2019</td>\n",
       "      <td>1400154585 Absa Bank 1400154585 Acb Debit:Exte...</td>\n",
       "      <td>19.0</td>\n",
       "      <td>591.82</td>\n",
       "      <td>0</td>\n",
       "      <td>905.30</td>\n",
       "    </tr>\n",
       "    <tr>\n",
       "      <th>10</th>\n",
       "      <td>30/03/2019</td>\n",
       "      <td>Npf Credit Treas/lbs</td>\n",
       "      <td>0.0</td>\n",
       "      <td>0</td>\n",
       "      <td>15 000.00</td>\n",
       "      <td>15 905.30</td>\n",
       "    </tr>\n",
       "    <tr>\n",
       "      <th>12</th>\n",
       "      <td>30/03/2019</td>\n",
       "      <td>bank Transfer Settlement</td>\n",
       "      <td>0.0</td>\n",
       "      <td>5 000.00</td>\n",
       "      <td>0</td>\n",
       "      <td>0 905.30</td>\n",
       "    </tr>\n",
       "    <tr>\n",
       "      <th>14</th>\n",
       "      <td>30/03/2019</td>\n",
       "      <td>Internet Bank Fee Settlement</td>\n",
       "      <td>0.0</td>\n",
       "      <td>1 052.50</td>\n",
       "      <td>0</td>\n",
       "      <td>9 852.80</td>\n",
       "    </tr>\n",
       "    <tr>\n",
       "      <th>15</th>\n",
       "      <td>1/04/2019</td>\n",
       "      <td>Monthly Acc Fee Headoffice</td>\n",
       "      <td>0.0</td>\n",
       "      <td>75.00</td>\n",
       "      <td>0</td>\n",
       "      <td>9 777.80</td>\n",
       "    </tr>\n",
       "    <tr>\n",
       "      <th>16</th>\n",
       "      <td>1/04/2019</td>\n",
       "      <td>Transaction Charge Headoffice</td>\n",
       "      <td>0.0</td>\n",
       "      <td>193.00</td>\n",
       "      <td>0</td>\n",
       "      <td>9 584.80</td>\n",
       "    </tr>\n",
       "  </tbody>\n",
       "</table>\n",
       "</div>"
      ],
      "text/plain": [
       "                   Date                            Transaction Description   \\\n",
       "0   5/03/2019 5/03/2019   Bal Brought Forward Airtime Debit Tiq001absa C...   \n",
       "1             7/03/2019   Acb Debit:External Settlement lairdressihairdr...   \n",
       "2            12/03/2019      Acb Credit Settlement Hollard Etimage004-0016    \n",
       "3            15/03/2019   Acb Debit:Externa Settlement Centrafin Debit 0...   \n",
       "4            18/03/2019                           Airtime Debit Tiq001absa    \n",
       "5            19/03/2019   Card No. 4971 Vodacom: 0824941097 bank Payment...   \n",
       "6            27/03/2019                               Npf Credit Treas/lbs    \n",
       "7            27/03/2019   Eftbbl2tllvpf002/Images 1 Fnb bank Transfer Se...   \n",
       "8            29/03/2019   1400154585 Absa Bank 1400154585 Acb Debit:Exte...   \n",
       "10           30/03/2019                               Npf Credit Treas/lbs    \n",
       "12           30/03/2019                           bank Transfer Settlement    \n",
       "14           30/03/2019                       Internet Bank Fee Settlement    \n",
       "15            1/04/2019                         Monthly Acc Fee Headoffice    \n",
       "16            1/04/2019                      Transaction Charge Headoffice    \n",
       "\n",
       "    Charge  Debit Amount  Credit Amount             Balance   \n",
       "0       1.5       499.00               0  4 794.48 4 295.48   \n",
       "1      19.0     3 662.00               0             633.48   \n",
       "2       0.0             0      6 298.80            6 932.28   \n",
       "3      19.0     1 325.16               0           5 607.12   \n",
       "4       1.5       110.00               0           5 497.12   \n",
       "5       0.0     1 000.00               0           4 497.12   \n",
       "6       0.0             0     10 000.00           14 497.12   \n",
       "7       0.0    13 000.00               0           1 497.12   \n",
       "8      19.0       591.82               0             905.30   \n",
       "10      0.0             0     15 000.00           15 905.30   \n",
       "12      0.0     5 000.00               0           0 905.30   \n",
       "14      0.0     1 052.50               0           9 852.80   \n",
       "15      0.0        75.00               0           9 777.80   \n",
       "16      0.0       193.00               0           9 584.80   "
      ]
     },
     "execution_count": 97,
     "metadata": {},
     "output_type": "execute_result"
    }
   ],
   "source": [
    "statement_df"
   ]
  },
  {
   "cell_type": "code",
   "execution_count": 98,
   "metadata": {},
   "outputs": [
    {
     "data": {
      "text/plain": [
       "Date                                                     5/03/2019 5/03/2019 \n",
       "Transaction Description     Bal Brought Forward Airtime Debit Tiq001absa C...\n",
       "Charge                                                                    1.5\n",
       "Debit Amount                                                          499.00 \n",
       "Credit Amount                                                               0\n",
       "Balance                                                    4 794.48 4 295.48 \n",
       "Name: 0, dtype: object"
      ]
     },
     "execution_count": 98,
     "metadata": {},
     "output_type": "execute_result"
    }
   ],
   "source": [
    "statement_df.iloc[0]"
   ]
  },
  {
   "cell_type": "code",
   "execution_count": 99,
   "metadata": {},
   "outputs": [
    {
     "name": "stderr",
     "output_type": "stream",
     "text": [
      "<ipython-input-99-24a64be7027f>:1: SettingWithCopyWarning: \n",
      "A value is trying to be set on a copy of a slice from a DataFrame\n",
      "\n",
      "See the caveats in the documentation: https://pandas.pydata.org/pandas-docs/stable/user_guide/indexing.html#returning-a-view-versus-a-copy\n",
      "  statement_df.iloc[0][[\"Date \"]] =  \"5/03/2019\"\n",
      "/Users/tamalaameliamanda/opt/anaconda3/lib/python3.8/site-packages/pandas/core/series.py:1098: SettingWithCopyWarning: \n",
      "A value is trying to be set on a copy of a slice from a DataFrame\n",
      "\n",
      "See the caveats in the documentation: https://pandas.pydata.org/pandas-docs/stable/user_guide/indexing.html#returning-a-view-versus-a-copy\n",
      "  self._set_labels(key, value)\n"
     ]
    }
   ],
   "source": [
    "statement_df.iloc[0][[\"Date \"]] =  \"5/03/2019\""
   ]
  },
  {
   "cell_type": "code",
   "execution_count": 100,
   "metadata": {},
   "outputs": [],
   "source": [
    "statement_df.iloc[0, statement_df.columns.get_loc('Date ')] = \"5/03/2019\""
   ]
  },
  {
   "cell_type": "code",
   "execution_count": 101,
   "metadata": {},
   "outputs": [],
   "source": [
    "statement_df.iloc[0, statement_df.columns.get_loc('Balance ')] = \"4 295.48\""
   ]
  },
  {
   "cell_type": "code",
   "execution_count": 102,
   "metadata": {},
   "outputs": [],
   "source": [
    "statement_df.iloc[0, statement_df.columns.get_loc('Transaction Description ')] = \"Airtime Debit Tiq001absa Card No. 4971 Mtn: 0730403965\""
   ]
  },
  {
   "cell_type": "code",
   "execution_count": 103,
   "metadata": {},
   "outputs": [],
   "source": [
    "statement_df[\"Debit Amount \"]=statement_df[\"Debit Amount \"].astype(object).apply(lambda x: str(x).replace(\" \", '')).astype(float)\n",
    "\n",
    "# Convert to string, astype object, remove spaces and convert back to float "
   ]
  },
  {
   "cell_type": "code",
   "execution_count": 121,
   "metadata": {},
   "outputs": [],
   "source": [
    "statement_df[\"Credit Amount \"]=statement_df[\"Credit Amount \"].astype(object).apply(lambda x: str(x).replace(\" \", '')).astype(float)"
   ]
  },
  {
   "cell_type": "code",
   "execution_count": 122,
   "metadata": {},
   "outputs": [
    {
     "data": {
      "text/html": [
       "<div>\n",
       "<style scoped>\n",
       "    .dataframe tbody tr th:only-of-type {\n",
       "        vertical-align: middle;\n",
       "    }\n",
       "\n",
       "    .dataframe tbody tr th {\n",
       "        vertical-align: top;\n",
       "    }\n",
       "\n",
       "    .dataframe thead th {\n",
       "        text-align: right;\n",
       "    }\n",
       "</style>\n",
       "<table border=\"1\" class=\"dataframe\">\n",
       "  <thead>\n",
       "    <tr style=\"text-align: right;\">\n",
       "      <th></th>\n",
       "      <th>Date</th>\n",
       "      <th>Transaction Description</th>\n",
       "      <th>Charge</th>\n",
       "      <th>Debit Amount</th>\n",
       "      <th>Credit Amount</th>\n",
       "      <th>Balance</th>\n",
       "    </tr>\n",
       "  </thead>\n",
       "  <tbody>\n",
       "    <tr>\n",
       "      <th>0</th>\n",
       "      <td>5/03/2019</td>\n",
       "      <td>Airtime Debit Tiq001absa Card No. 4971 Mtn: 07...</td>\n",
       "      <td>1.5</td>\n",
       "      <td>499.00</td>\n",
       "      <td>0.0</td>\n",
       "      <td>4 295.48</td>\n",
       "    </tr>\n",
       "    <tr>\n",
       "      <th>1</th>\n",
       "      <td>7/03/2019</td>\n",
       "      <td>Acb Debit:External Settlement lairdressihairdr...</td>\n",
       "      <td>19.0</td>\n",
       "      <td>3662.00</td>\n",
       "      <td>0.0</td>\n",
       "      <td>633.48</td>\n",
       "    </tr>\n",
       "    <tr>\n",
       "      <th>2</th>\n",
       "      <td>12/03/2019</td>\n",
       "      <td>Acb Credit Settlement Hollard Etimage004-0016</td>\n",
       "      <td>0.0</td>\n",
       "      <td>0.00</td>\n",
       "      <td>6298.8</td>\n",
       "      <td>6 932.28</td>\n",
       "    </tr>\n",
       "    <tr>\n",
       "      <th>3</th>\n",
       "      <td>15/03/2019</td>\n",
       "      <td>Acb Debit:Externa Settlement Centrafin Debit 0...</td>\n",
       "      <td>19.0</td>\n",
       "      <td>1325.16</td>\n",
       "      <td>0.0</td>\n",
       "      <td>5 607.12</td>\n",
       "    </tr>\n",
       "    <tr>\n",
       "      <th>4</th>\n",
       "      <td>18/03/2019</td>\n",
       "      <td>Airtime Debit Tiq001absa</td>\n",
       "      <td>1.5</td>\n",
       "      <td>110.00</td>\n",
       "      <td>0.0</td>\n",
       "      <td>5 497.12</td>\n",
       "    </tr>\n",
       "    <tr>\n",
       "      <th>5</th>\n",
       "      <td>19/03/2019</td>\n",
       "      <td>Card No. 4971 Vodacom: 0824941097 bank Payment...</td>\n",
       "      <td>0.0</td>\n",
       "      <td>1000.00</td>\n",
       "      <td>0.0</td>\n",
       "      <td>4 497.12</td>\n",
       "    </tr>\n",
       "    <tr>\n",
       "      <th>6</th>\n",
       "      <td>27/03/2019</td>\n",
       "      <td>Npf Credit Treas/lbs</td>\n",
       "      <td>0.0</td>\n",
       "      <td>0.00</td>\n",
       "      <td>10000.0</td>\n",
       "      <td>14 497.12</td>\n",
       "    </tr>\n",
       "    <tr>\n",
       "      <th>7</th>\n",
       "      <td>27/03/2019</td>\n",
       "      <td>Eftbbl2tllvpf002/Images 1 Fnb bank Transfer Se...</td>\n",
       "      <td>0.0</td>\n",
       "      <td>13000.00</td>\n",
       "      <td>0.0</td>\n",
       "      <td>1 497.12</td>\n",
       "    </tr>\n",
       "    <tr>\n",
       "      <th>8</th>\n",
       "      <td>29/03/2019</td>\n",
       "      <td>1400154585 Absa Bank 1400154585 Acb Debit:Exte...</td>\n",
       "      <td>19.0</td>\n",
       "      <td>591.82</td>\n",
       "      <td>0.0</td>\n",
       "      <td>905.30</td>\n",
       "    </tr>\n",
       "    <tr>\n",
       "      <th>10</th>\n",
       "      <td>30/03/2019</td>\n",
       "      <td>Npf Credit Treas/lbs</td>\n",
       "      <td>0.0</td>\n",
       "      <td>0.00</td>\n",
       "      <td>15000.0</td>\n",
       "      <td>15 905.30</td>\n",
       "    </tr>\n",
       "    <tr>\n",
       "      <th>12</th>\n",
       "      <td>30/03/2019</td>\n",
       "      <td>bank Transfer Settlement</td>\n",
       "      <td>0.0</td>\n",
       "      <td>5000.00</td>\n",
       "      <td>0.0</td>\n",
       "      <td>0 905.30</td>\n",
       "    </tr>\n",
       "    <tr>\n",
       "      <th>14</th>\n",
       "      <td>30/03/2019</td>\n",
       "      <td>Internet Bank Fee Settlement</td>\n",
       "      <td>0.0</td>\n",
       "      <td>1052.50</td>\n",
       "      <td>0.0</td>\n",
       "      <td>9 852.80</td>\n",
       "    </tr>\n",
       "    <tr>\n",
       "      <th>15</th>\n",
       "      <td>1/04/2019</td>\n",
       "      <td>Monthly Acc Fee Headoffice</td>\n",
       "      <td>0.0</td>\n",
       "      <td>75.00</td>\n",
       "      <td>0.0</td>\n",
       "      <td>9 777.80</td>\n",
       "    </tr>\n",
       "    <tr>\n",
       "      <th>16</th>\n",
       "      <td>1/04/2019</td>\n",
       "      <td>Transaction Charge Headoffice</td>\n",
       "      <td>0.0</td>\n",
       "      <td>193.00</td>\n",
       "      <td>0.0</td>\n",
       "      <td>9 584.80</td>\n",
       "    </tr>\n",
       "  </tbody>\n",
       "</table>\n",
       "</div>"
      ],
      "text/plain": [
       "          Date                            Transaction Description   Charge   \\\n",
       "0     5/03/2019  Airtime Debit Tiq001absa Card No. 4971 Mtn: 07...      1.5   \n",
       "1    7/03/2019   Acb Debit:External Settlement lairdressihairdr...     19.0   \n",
       "2   12/03/2019      Acb Credit Settlement Hollard Etimage004-0016       0.0   \n",
       "3   15/03/2019   Acb Debit:Externa Settlement Centrafin Debit 0...     19.0   \n",
       "4   18/03/2019                           Airtime Debit Tiq001absa       1.5   \n",
       "5   19/03/2019   Card No. 4971 Vodacom: 0824941097 bank Payment...      0.0   \n",
       "6   27/03/2019                               Npf Credit Treas/lbs       0.0   \n",
       "7   27/03/2019   Eftbbl2tllvpf002/Images 1 Fnb bank Transfer Se...      0.0   \n",
       "8   29/03/2019   1400154585 Absa Bank 1400154585 Acb Debit:Exte...     19.0   \n",
       "10  30/03/2019                               Npf Credit Treas/lbs       0.0   \n",
       "12  30/03/2019                           bank Transfer Settlement       0.0   \n",
       "14  30/03/2019                       Internet Bank Fee Settlement       0.0   \n",
       "15   1/04/2019                         Monthly Acc Fee Headoffice       0.0   \n",
       "16   1/04/2019                      Transaction Charge Headoffice       0.0   \n",
       "\n",
       "    Debit Amount   Credit Amount     Balance   \n",
       "0          499.00             0.0    4 295.48  \n",
       "1         3662.00             0.0     633.48   \n",
       "2            0.00          6298.8   6 932.28   \n",
       "3         1325.16             0.0   5 607.12   \n",
       "4          110.00             0.0   5 497.12   \n",
       "5         1000.00             0.0   4 497.12   \n",
       "6            0.00         10000.0  14 497.12   \n",
       "7        13000.00             0.0   1 497.12   \n",
       "8          591.82             0.0     905.30   \n",
       "10           0.00         15000.0  15 905.30   \n",
       "12        5000.00             0.0   0 905.30   \n",
       "14        1052.50             0.0   9 852.80   \n",
       "15          75.00             0.0   9 777.80   \n",
       "16         193.00             0.0   9 584.80   "
      ]
     },
     "execution_count": 122,
     "metadata": {},
     "output_type": "execute_result"
    }
   ],
   "source": [
    "statement_df"
   ]
  },
  {
   "cell_type": "code",
   "execution_count": 123,
   "metadata": {},
   "outputs": [],
   "source": [
    "#Liquidity Function\n",
    "\n",
    "def generate_liquidity(balance_brought_forward,balance):\n",
    "    if balance_brought_forward > balance:\n",
    "        return \"low\"\n",
    "    elif balance_brought_forward == balance:\n",
    "        return \"medium\"\n",
    "    else: \n",
    "        return \"High\"\n"
   ]
  },
  {
   "cell_type": "code",
   "execution_count": 124,
   "metadata": {},
   "outputs": [],
   "source": [
    "liquidity= generate_liquidity(bbf,balance)"
   ]
  },
  {
   "cell_type": "code",
   "execution_count": 125,
   "metadata": {},
   "outputs": [
    {
     "name": "stdout",
     "output_type": "stream",
     "text": [
      "low\n"
     ]
    }
   ],
   "source": [
    "print(liquidity)"
   ]
  },
  {
   "cell_type": "code",
   "execution_count": 126,
   "metadata": {},
   "outputs": [
    {
     "data": {
      "text/html": [
       "<div>\n",
       "<style scoped>\n",
       "    .dataframe tbody tr th:only-of-type {\n",
       "        vertical-align: middle;\n",
       "    }\n",
       "\n",
       "    .dataframe tbody tr th {\n",
       "        vertical-align: top;\n",
       "    }\n",
       "\n",
       "    .dataframe thead th {\n",
       "        text-align: right;\n",
       "    }\n",
       "</style>\n",
       "<table border=\"1\" class=\"dataframe\">\n",
       "  <thead>\n",
       "    <tr style=\"text-align: right;\">\n",
       "      <th></th>\n",
       "      <th>Date</th>\n",
       "      <th>Transaction Description</th>\n",
       "      <th>Charge</th>\n",
       "      <th>Debit Amount</th>\n",
       "      <th>Credit Amount</th>\n",
       "      <th>Balance</th>\n",
       "    </tr>\n",
       "  </thead>\n",
       "  <tbody>\n",
       "    <tr>\n",
       "      <th>0</th>\n",
       "      <td>5/03/2019</td>\n",
       "      <td>Airtime Debit Tiq001absa Card No. 4971 Mtn: 07...</td>\n",
       "      <td>1.5</td>\n",
       "      <td>499.00</td>\n",
       "      <td>0.0</td>\n",
       "      <td>4 295.48</td>\n",
       "    </tr>\n",
       "    <tr>\n",
       "      <th>1</th>\n",
       "      <td>7/03/2019</td>\n",
       "      <td>Acb Debit:External Settlement lairdressihairdr...</td>\n",
       "      <td>19.0</td>\n",
       "      <td>3662.00</td>\n",
       "      <td>0.0</td>\n",
       "      <td>633.48</td>\n",
       "    </tr>\n",
       "    <tr>\n",
       "      <th>2</th>\n",
       "      <td>12/03/2019</td>\n",
       "      <td>Acb Credit Settlement Hollard Etimage004-0016</td>\n",
       "      <td>0.0</td>\n",
       "      <td>0.00</td>\n",
       "      <td>6298.8</td>\n",
       "      <td>6 932.28</td>\n",
       "    </tr>\n",
       "    <tr>\n",
       "      <th>3</th>\n",
       "      <td>15/03/2019</td>\n",
       "      <td>Acb Debit:Externa Settlement Centrafin Debit 0...</td>\n",
       "      <td>19.0</td>\n",
       "      <td>1325.16</td>\n",
       "      <td>0.0</td>\n",
       "      <td>5 607.12</td>\n",
       "    </tr>\n",
       "    <tr>\n",
       "      <th>4</th>\n",
       "      <td>18/03/2019</td>\n",
       "      <td>Airtime Debit Tiq001absa</td>\n",
       "      <td>1.5</td>\n",
       "      <td>110.00</td>\n",
       "      <td>0.0</td>\n",
       "      <td>5 497.12</td>\n",
       "    </tr>\n",
       "    <tr>\n",
       "      <th>5</th>\n",
       "      <td>19/03/2019</td>\n",
       "      <td>Card No. 4971 Vodacom: 0824941097 bank Payment...</td>\n",
       "      <td>0.0</td>\n",
       "      <td>1000.00</td>\n",
       "      <td>0.0</td>\n",
       "      <td>4 497.12</td>\n",
       "    </tr>\n",
       "    <tr>\n",
       "      <th>6</th>\n",
       "      <td>27/03/2019</td>\n",
       "      <td>Npf Credit Treas/lbs</td>\n",
       "      <td>0.0</td>\n",
       "      <td>0.00</td>\n",
       "      <td>10000.0</td>\n",
       "      <td>14 497.12</td>\n",
       "    </tr>\n",
       "    <tr>\n",
       "      <th>7</th>\n",
       "      <td>27/03/2019</td>\n",
       "      <td>Eftbbl2tllvpf002/Images 1 Fnb bank Transfer Se...</td>\n",
       "      <td>0.0</td>\n",
       "      <td>13000.00</td>\n",
       "      <td>0.0</td>\n",
       "      <td>1 497.12</td>\n",
       "    </tr>\n",
       "    <tr>\n",
       "      <th>8</th>\n",
       "      <td>29/03/2019</td>\n",
       "      <td>1400154585 Absa Bank 1400154585 Acb Debit:Exte...</td>\n",
       "      <td>19.0</td>\n",
       "      <td>591.82</td>\n",
       "      <td>0.0</td>\n",
       "      <td>905.30</td>\n",
       "    </tr>\n",
       "    <tr>\n",
       "      <th>10</th>\n",
       "      <td>30/03/2019</td>\n",
       "      <td>Npf Credit Treas/lbs</td>\n",
       "      <td>0.0</td>\n",
       "      <td>0.00</td>\n",
       "      <td>15000.0</td>\n",
       "      <td>15 905.30</td>\n",
       "    </tr>\n",
       "    <tr>\n",
       "      <th>12</th>\n",
       "      <td>30/03/2019</td>\n",
       "      <td>bank Transfer Settlement</td>\n",
       "      <td>0.0</td>\n",
       "      <td>5000.00</td>\n",
       "      <td>0.0</td>\n",
       "      <td>0 905.30</td>\n",
       "    </tr>\n",
       "    <tr>\n",
       "      <th>14</th>\n",
       "      <td>30/03/2019</td>\n",
       "      <td>Internet Bank Fee Settlement</td>\n",
       "      <td>0.0</td>\n",
       "      <td>1052.50</td>\n",
       "      <td>0.0</td>\n",
       "      <td>9 852.80</td>\n",
       "    </tr>\n",
       "    <tr>\n",
       "      <th>15</th>\n",
       "      <td>1/04/2019</td>\n",
       "      <td>Monthly Acc Fee Headoffice</td>\n",
       "      <td>0.0</td>\n",
       "      <td>75.00</td>\n",
       "      <td>0.0</td>\n",
       "      <td>9 777.80</td>\n",
       "    </tr>\n",
       "    <tr>\n",
       "      <th>16</th>\n",
       "      <td>1/04/2019</td>\n",
       "      <td>Transaction Charge Headoffice</td>\n",
       "      <td>0.0</td>\n",
       "      <td>193.00</td>\n",
       "      <td>0.0</td>\n",
       "      <td>9 584.80</td>\n",
       "    </tr>\n",
       "  </tbody>\n",
       "</table>\n",
       "</div>"
      ],
      "text/plain": [
       "          Date                            Transaction Description   Charge   \\\n",
       "0     5/03/2019  Airtime Debit Tiq001absa Card No. 4971 Mtn: 07...      1.5   \n",
       "1    7/03/2019   Acb Debit:External Settlement lairdressihairdr...     19.0   \n",
       "2   12/03/2019      Acb Credit Settlement Hollard Etimage004-0016       0.0   \n",
       "3   15/03/2019   Acb Debit:Externa Settlement Centrafin Debit 0...     19.0   \n",
       "4   18/03/2019                           Airtime Debit Tiq001absa       1.5   \n",
       "5   19/03/2019   Card No. 4971 Vodacom: 0824941097 bank Payment...      0.0   \n",
       "6   27/03/2019                               Npf Credit Treas/lbs       0.0   \n",
       "7   27/03/2019   Eftbbl2tllvpf002/Images 1 Fnb bank Transfer Se...      0.0   \n",
       "8   29/03/2019   1400154585 Absa Bank 1400154585 Acb Debit:Exte...     19.0   \n",
       "10  30/03/2019                               Npf Credit Treas/lbs       0.0   \n",
       "12  30/03/2019                           bank Transfer Settlement       0.0   \n",
       "14  30/03/2019                       Internet Bank Fee Settlement       0.0   \n",
       "15   1/04/2019                         Monthly Acc Fee Headoffice       0.0   \n",
       "16   1/04/2019                      Transaction Charge Headoffice       0.0   \n",
       "\n",
       "    Debit Amount   Credit Amount     Balance   \n",
       "0          499.00             0.0    4 295.48  \n",
       "1         3662.00             0.0     633.48   \n",
       "2            0.00          6298.8   6 932.28   \n",
       "3         1325.16             0.0   5 607.12   \n",
       "4          110.00             0.0   5 497.12   \n",
       "5         1000.00             0.0   4 497.12   \n",
       "6            0.00         10000.0  14 497.12   \n",
       "7        13000.00             0.0   1 497.12   \n",
       "8          591.82             0.0     905.30   \n",
       "10           0.00         15000.0  15 905.30   \n",
       "12        5000.00             0.0   0 905.30   \n",
       "14        1052.50             0.0   9 852.80   \n",
       "15          75.00             0.0   9 777.80   \n",
       "16         193.00             0.0   9 584.80   "
      ]
     },
     "execution_count": 126,
     "metadata": {},
     "output_type": "execute_result"
    }
   ],
   "source": [
    "statement_df"
   ]
  },
  {
   "cell_type": "code",
   "execution_count": 127,
   "metadata": {},
   "outputs": [
    {
     "data": {
      "text/plain": [
       "13000.0"
      ]
     },
     "execution_count": 127,
     "metadata": {},
     "output_type": "execute_result"
    }
   ],
   "source": [
    "statement_df[\"Debit Amount \"].max()"
   ]
  },
  {
   "cell_type": "code",
   "execution_count": 129,
   "metadata": {},
   "outputs": [
    {
     "data": {
      "text/plain": [
       "26508.48"
      ]
     },
     "execution_count": 129,
     "metadata": {},
     "output_type": "execute_result"
    }
   ],
   "source": [
    "statement_df[\"Debit Amount \"].sum()"
   ]
  },
  {
   "cell_type": "code",
   "execution_count": 128,
   "metadata": {},
   "outputs": [
    {
     "data": {
      "text/plain": [
       "15000.0"
      ]
     },
     "execution_count": 128,
     "metadata": {},
     "output_type": "execute_result"
    }
   ],
   "source": [
    "statement_df['Credit Amount '].max()"
   ]
  },
  {
   "cell_type": "code",
   "execution_count": 130,
   "metadata": {},
   "outputs": [
    {
     "data": {
      "text/plain": [
       "31298.8"
      ]
     },
     "execution_count": 130,
     "metadata": {},
     "output_type": "execute_result"
    }
   ],
   "source": [
    "statement_df['Credit Amount '].sum()"
   ]
  },
  {
   "cell_type": "code",
   "execution_count": 131,
   "metadata": {},
   "outputs": [],
   "source": [
    "cashinflow=statement_df['Credit Amount '].sum()"
   ]
  },
  {
   "cell_type": "code",
   "execution_count": 132,
   "metadata": {},
   "outputs": [
    {
     "data": {
      "text/plain": [
       "31298.8"
      ]
     },
     "execution_count": 132,
     "metadata": {},
     "output_type": "execute_result"
    }
   ],
   "source": [
    "cashinflow"
   ]
  },
  {
   "cell_type": "code",
   "execution_count": 133,
   "metadata": {},
   "outputs": [],
   "source": [
    "cashoutflow=statement_df[\"Debit Amount \"].sum()"
   ]
  },
  {
   "cell_type": "code",
   "execution_count": 134,
   "metadata": {},
   "outputs": [
    {
     "data": {
      "text/plain": [
       "26508.48"
      ]
     },
     "execution_count": 134,
     "metadata": {},
     "output_type": "execute_result"
    }
   ],
   "source": [
    "cashoutflow"
   ]
  }
 ],
 "metadata": {
  "kernelspec": {
   "display_name": "Python 3",
   "language": "python",
   "name": "python3"
  },
  "language_info": {
   "codemirror_mode": {
    "name": "ipython",
    "version": 3
   },
   "file_extension": ".py",
   "mimetype": "text/x-python",
   "name": "python",
   "nbconvert_exporter": "python",
   "pygments_lexer": "ipython3",
   "version": "3.8.3"
  }
 },
 "nbformat": 4,
 "nbformat_minor": 4
}
